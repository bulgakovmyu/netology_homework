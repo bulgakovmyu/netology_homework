{
 "cells": [
  {
   "cell_type": "code",
   "execution_count": 301,
   "metadata": {
    "ExecuteTime": {
     "end_time": "2020-07-07T15:21:52.789643Z",
     "start_time": "2020-07-07T15:21:52.782642Z"
    }
   },
   "outputs": [],
   "source": [
    "import numpy as np\n",
    "\n",
    "import matplotlib.pyplot as plt\n",
    "%matplotlib inline\n",
    "from jupyterthemes import jtplot\n",
    "jtplot.style()"
   ]
  },
  {
   "cell_type": "markdown",
   "metadata": {},
   "source": [
    "# Homework - Nesterov and RMSprop gradient descent for regression"
   ]
  },
  {
   "cell_type": "code",
   "execution_count": 302,
   "metadata": {
    "ExecuteTime": {
     "end_time": "2020-07-07T15:21:53.514874Z",
     "start_time": "2020-07-07T15:21:53.397844Z"
    }
   },
   "outputs": [
    {
     "data": {
      "image/png": "[encoded data removed]",
      "text/plain": [
       "<Figure size 460.8x403.2 with 1 Axes>"
      ]
     },
     "metadata": {},
     "output_type": "display_data"
    }
   ],
   "source": [
    "N = 100\n",
    "X = np.random.uniform(low=0, high=100, size=N)\n",
    "Y = 2*X + 1 + np.random.normal(scale=5, size=N)\n",
    "\n",
    "plt.scatter(X, Y)\n",
    "plt.show()"
   ]
  },
  {
   "cell_type": "markdown",
   "metadata": {},
   "source": [
    "## Применим метод градиентного спуска"
   ]
  },
  {
   "cell_type": "code",
   "execution_count": 303,
   "metadata": {
    "ExecuteTime": {
     "end_time": "2020-07-07T15:21:54.616837Z",
     "start_time": "2020-07-07T15:21:54.614836Z"
    }
   },
   "outputs": [],
   "source": [
    "EPOCHS = 10"
   ]
  },
  {
   "cell_type": "code",
   "execution_count": 304,
   "metadata": {
    "ExecuteTime": {
     "end_time": "2020-07-07T15:21:55.096993Z",
     "start_time": "2020-07-07T15:21:55.093992Z"
    }
   },
   "outputs": [],
   "source": [
    "def cost_function(X, y, theta0, theta1):\n",
    "    total_cost = 0\n",
    "    for i in range(len(X)):\n",
    "        total_cost += (theta0 + theta1*X[i] - y[i]) ** 2\n",
    "    return total_cost / (2 * len(X))"
   ]
  },
  {
   "cell_type": "code",
   "execution_count": 305,
   "metadata": {
    "ExecuteTime": {
     "end_time": "2020-07-07T15:21:55.617644Z",
     "start_time": "2020-07-07T15:21:55.613634Z"
    }
   },
   "outputs": [],
   "source": [
    "def der_theta0(X, y, theta0, theta1):\n",
    "    total_cost = 0\n",
    "    for i in range(len(X)):\n",
    "        total_cost += (theta0 + theta1*X[i] - y[i])\n",
    "    return total_cost / (len(X)) \n"
   ]
  },
  {
   "cell_type": "code",
   "execution_count": 306,
   "metadata": {
    "ExecuteTime": {
     "end_time": "2020-07-07T15:21:56.105305Z",
     "start_time": "2020-07-07T15:21:56.101305Z"
    }
   },
   "outputs": [],
   "source": [
    "def der_theta1(X, y, theta0, theta1):\n",
    "    total_cost = 0\n",
    "    for i in range(len(X)):\n",
    "        total_cost += (theta0 + theta1*X[i] - y[i]) * X[i]\n",
    "    return total_cost / (len(X))  "
   ]
  },
  {
   "cell_type": "markdown",
   "metadata": {},
   "source": [
    "Vanilla gradiend descent"
   ]
  },
  {
   "cell_type": "code",
   "execution_count": 307,
   "metadata": {
    "ExecuteTime": {
     "end_time": "2020-07-07T15:21:57.368319Z",
     "start_time": "2020-07-07T15:21:57.358471Z"
    }
   },
   "outputs": [
    {
     "name": "stdout",
     "output_type": "stream",
     "text": [
      "t0: 1.005151436675696 t1: 1.3431223770271037 cost: 737.4481030957552\n",
      "t0: 1.0085138851266557 t1: 1.5671341217084038 cost: 322.6410368866348\n",
      "t0: 1.0107083702643263 t1: 1.71338300089345 cost: 145.83805040125918\n",
      "t0: 1.012140335966449 t1: 1.8088634211163916 cost: 70.47941121054708\n",
      "t0: 1.0130744813376291 t1: 1.871199018177981 cost: 38.359340072892884\n",
      "t0: 1.0136836184976827 t1: 1.9118956030485257 cost: 24.668819887431855\n",
      "t0: 1.0140805699995983 t1: 1.9384648882702704 cost: 18.833517013578515\n",
      "t0: 1.0143389934576468 t1: 1.9558109892908724 cost: 16.346339070856562\n",
      "t0: 1.0145069771662016 t1: 1.9671356191935592 cost: 15.28623056616318\n",
      "t0: 1.0146159161694637 t1: 1.9745290563938218 cost: 14.834381078933994\n"
     ]
    }
   ],
   "source": [
    "\n",
    "theta0 = 1\n",
    "theta1 = 1\n",
    "\n",
    "LEARNING_RATE = 0.0001\n",
    "\n",
    "for _ in range(EPOCHS):\n",
    "    dt0 = der_theta0(X, Y, theta0, theta1)\n",
    "    dt1 = der_theta1(X, Y, theta0, theta1)\n",
    "    \n",
    "    theta0 -= LEARNING_RATE * dt0\n",
    "    theta1 -= LEARNING_RATE * dt1\n",
    "    \n",
    "   \n",
    "    \n",
    "    print(\"t0:\", theta0, \"t1:\", theta1, \"cost:\", \n",
    "          cost_function(X, Y, theta0, theta1))"
   ]
  },
  {
   "cell_type": "markdown",
   "metadata": {},
   "source": [
    "Nesterov gradiend descent"
   ]
  },
  {
   "cell_type": "code",
   "execution_count": 309,
   "metadata": {
    "ExecuteTime": {
     "end_time": "2020-07-07T15:22:14.488801Z",
     "start_time": "2020-07-07T15:22:14.478799Z"
    }
   },
   "outputs": [
    {
     "name": "stdout",
     "output_type": "stream",
     "text": [
      "t0: 1.0103028733513917 t1: 1.6862447540542074 cost: 173.03416131892232\n",
      "t0: 1.0153379460753071 t1: 2.0219283135277957 cost: 16.446409548045406\n",
      "t0: 1.0159052609272399 t1: 2.0602500637406975 cost: 23.45267377050674\n",
      "t0: 1.0152527948796994 t1: 2.0174195122721974 cost: 15.957308909564201\n",
      "t0: 1.0148228254003364 t1: 1.9894390703143814 cost: 14.500474557436684\n",
      "t0: 1.0147252160140308 t1: 1.9836088841389334 cost: 14.539144347459448\n",
      "t0: 1.0147492344377378 t1: 1.98588968941098 cost: 14.509963002803865\n",
      "t0: 1.014771700681215 t1: 1.988074936307621 cost: 14.498945112966112\n",
      "t0: 1.0147710484771104 t1: 1.988725600855787 cost: 14.498867237710497\n",
      "t0: 1.0147593436614373 t1: 1.9886431382727408 cost: 14.498795425562864\n"
     ]
    }
   ],
   "source": [
    "gamma = 0.6\n",
    "theta0_nm = 1\n",
    "theta1_nm = 1\n",
    "lr = 0.0005\n",
    "etha = (1-gamma)*lr\n",
    "v_0 = 0\n",
    "v_1 = 0\n",
    "for _ in range(EPOCHS):\n",
    "    \n",
    "    v_0_t = gamma*v_0\n",
    "    v_1_t = gamma*v_1\n",
    "   \n",
    "    v_0 = v_0_t + etha*der_theta0(X, Y, theta0_nm - v_0_t, theta1_nm - v_1_t)\n",
    "    v_1 = v_1_t + etha*der_theta1(X, Y, theta0_nm - v_0_t, theta1_nm - v_1_t)\n",
    "\n",
    "    theta0_nm -= v_0\n",
    "    theta1_nm -= v_1\n",
    "    \n",
    "   \n",
    "    \n",
    "    print(\"t0:\", theta0_nm, \"t1:\", theta1_nm, \"cost:\", \n",
    "          cost_function(X, Y, theta0_nm, theta1_nm))"
   ]
  },
  {
   "cell_type": "markdown",
   "metadata": {},
   "source": [
    "После подбора  параметров лосс спускается до уровня флуктуаций за 3-4 эпохи, это быстрее, чем обычный градиентный спуск"
   ]
  },
  {
   "cell_type": "markdown",
   "metadata": {},
   "source": [
    "RMSprop gradiend descent"
   ]
  },
  {
   "cell_type": "code",
   "execution_count": 310,
   "metadata": {
    "ExecuteTime": {
     "end_time": "2020-07-07T15:22:39.426102Z",
     "start_time": "2020-07-07T15:22:39.414099Z"
    }
   },
   "outputs": [
    {
     "name": "stdout",
     "output_type": "stream",
     "text": [
      "t0: 2.11803397821723 t1: 2.118033988747521 cost: 51.72923510783925\n",
      "t0: 1.9913901705943737 t1: 1.9955704923450421 cost: 15.447781840211642\n",
      "t0: 1.9749841797951293 t1: 1.9819559182419988 cost: 14.728522325181636\n",
      "t0: 1.9692382707740987 t1: 1.9782594432738785 cost: 14.647768400988953\n",
      "t0: 1.9662759416980815 t1: 1.9768165117048464 cost: 14.629460003957893\n",
      "t0: 1.964455697016545 t1: 1.976125611576861 cost: 14.623280442057919\n",
      "t0: 1.9632388339660525 t1: 1.975749066732718 cost: 14.620597282479771\n",
      "t0: 1.9623892745982299 t1: 1.9755251219589505 cost: 14.619220990300722\n",
      "t0: 1.9617817700432076 t1: 1.9753835470193826 cost: 14.61843104997642\n",
      "t0: 1.9613411898739062 t1: 1.975290049727397 cost: 14.617941499651726\n"
     ]
    }
   ],
   "source": [
    "theta0 = 1\n",
    "theta1 = 1\n",
    "\n",
    "LEARNING_RATE = 0.5\n",
    "\n",
    "G0 = 0\n",
    "G1 = 0\n",
    "eps = 10e-6\n",
    "beta = 0.8\n",
    "\n",
    "for _ in range(EPOCHS):\n",
    "    dt0 = der_theta0(X, Y, theta0, theta1)\n",
    "    G0 += beta*G0 +  (1-beta)*dt0**2\n",
    "    dt1 = der_theta1(X, Y, theta0, theta1)\n",
    "    G1 += beta*G1 +  (1-beta)*dt1**2\n",
    "    \n",
    "    theta0 -= LEARNING_RATE * dt0 / np.sqrt(G0 + eps)\n",
    "    theta1 -= LEARNING_RATE * dt1 / np.sqrt(G1 + eps)\n",
    "    \n",
    "   \n",
    "    \n",
    "    print(\"t0:\", theta0, \"t1:\", theta1, \"cost:\", \n",
    "          cost_function(X, Y, theta0, theta1))"
   ]
  },
  {
   "cell_type": "markdown",
   "metadata": {},
   "source": [
    "После подбора  параметров лосс спускается до уровня флуктуаций всего за 2-3 эпохи, это быстрее, чем обычный градиентный спуск и чуть быстрее того, что получилось у нестеровского спуска (хотя возможно это лишь вопрос подбора параметров)"
   ]
  },
  {
   "cell_type": "markdown",
   "metadata": {},
   "source": [
    "## Vector's approach\n",
    "Все то же самое проделаем, используя numpy и нарисуем картинки"
   ]
  },
  {
   "cell_type": "markdown",
   "metadata": {},
   "source": [
    "Vanilla gradiend descent"
   ]
  },
  {
   "cell_type": "code",
   "execution_count": 311,
   "metadata": {
    "ExecuteTime": {
     "end_time": "2020-07-07T15:22:52.397174Z",
     "start_time": "2020-07-07T15:22:52.389172Z"
    }
   },
   "outputs": [],
   "source": [
    "# h(xi) = params[0] + params[1] * xi\n",
    "\n",
    "EPOCHS = 12\n",
    "LEARNING_RATE = 0.0001\n",
    "\n",
    "costs = []\n",
    "params = []\n",
    "preds = []\n",
    "params = np.random.normal(size=(2,))\n",
    "\n",
    "for _ in range(EPOCHS):\n",
    "    predictions = params[0] + params[1] * X\n",
    "    preds.append(predictions)\n",
    "\n",
    "    cost = np.sum(np.square(predictions - Y)) / (2 * len(predictions))\n",
    "    costs.append(cost)\n",
    "    \n",
    "    params[0] -= LEARNING_RATE * np.sum(predictions - Y) / len(predictions)\n",
    "    params[1] -= LEARNING_RATE * np.sum((predictions - Y) * X) / len(predictions)    "
   ]
  },
  {
   "cell_type": "code",
   "execution_count": 312,
   "metadata": {
    "ExecuteTime": {
     "end_time": "2020-07-07T15:22:53.858017Z",
     "start_time": "2020-07-07T15:22:53.854024Z"
    }
   },
   "outputs": [
    {
     "data": {
      "text/plain": [
       "array([-1.19857789,  2.00830561])"
      ]
     },
     "execution_count": 312,
     "metadata": {},
     "output_type": "execute_result"
    }
   ],
   "source": [
    "params"
   ]
  },
  {
   "cell_type": "code",
   "execution_count": 313,
   "metadata": {
    "ExecuteTime": {
     "end_time": "2020-07-07T15:22:54.401908Z",
     "start_time": "2020-07-07T15:22:54.301885Z"
    }
   },
   "outputs": [
    {
     "data": {
      "image/png": "[encoded data removed]",
      "text/plain": [
       "<Figure size 360x360 with 1 Axes>"
      ]
     },
     "metadata": {},
     "output_type": "display_data"
    }
   ],
   "source": [
    "plt.figure(figsize=(5,5))\n",
    "plt.plot(costs)\n",
    "plt.show()"
   ]
  },
  {
   "cell_type": "code",
   "execution_count": 314,
   "metadata": {
    "ExecuteTime": {
     "end_time": "2020-07-07T15:22:56.021572Z",
     "start_time": "2020-07-07T15:22:55.893533Z"
    }
   },
   "outputs": [
    {
     "data": {
      "image/png": "[encoded data removed]",
      "text/plain": [
       "<Figure size 576x576 with 1 Axes>"
      ]
     },
     "metadata": {},
     "output_type": "display_data"
    }
   ],
   "source": [
    "plt.figure(figsize=(8,8))\n",
    "plt.scatter(X, Y, color='blue')\n",
    "plt.scatter(X, preds[10], color='red')\n",
    "plt.show()"
   ]
  },
  {
   "cell_type": "markdown",
   "metadata": {},
   "source": [
    "Nesterov gradiend descent"
   ]
  },
  {
   "cell_type": "code",
   "execution_count": 315,
   "metadata": {
    "ExecuteTime": {
     "end_time": "2020-07-07T15:22:57.047086Z",
     "start_time": "2020-07-07T15:22:57.038075Z"
    }
   },
   "outputs": [],
   "source": [
    "EPOCHS = 12\n",
    "LEARNING_RATE = 0.0001\n",
    "\n",
    "costs = []\n",
    "params = []\n",
    "preds = []\n",
    "params = np.random.normal(size=(2,))\n",
    "\n",
    "gamma = 0.6\n",
    "lr = 0.0007\n",
    "etha = (1-gamma)*lr\n",
    "v = np.zeros((2,))\n",
    "\n",
    "for _ in range(EPOCHS):\n",
    "        \n",
    "    predictions = params[0] + params[1] * X\n",
    "    preds.append(predictions)\n",
    "\n",
    "    cost = np.sum(np.square(predictions - Y)) / (2 * len(predictions))\n",
    "    costs.append(cost)\n",
    "    \n",
    "    v_t = gamma*v\n",
    "    \n",
    "    v[0] = v_t[0] + etha*np.sum((params[0]-v_t[0]) + (params[1]-v_t[1]) * X - Y) / len(predictions)\n",
    "    v[1] = v_t[1] + etha*np.sum(((params[0]-v_t[0]) + (params[1]-v_t[1]) * X - Y) * X) / len(predictions)\n",
    "\n",
    "    \n",
    "    params[0] -= v[0]\n",
    "    params[1] -= v[1]"
   ]
  },
  {
   "cell_type": "code",
   "execution_count": 316,
   "metadata": {
    "ExecuteTime": {
     "end_time": "2020-07-07T15:22:58.459026Z",
     "start_time": "2020-07-07T15:22:58.454026Z"
    }
   },
   "outputs": [
    {
     "data": {
      "text/plain": [
       "array([0.70727667, 1.99305309])"
      ]
     },
     "execution_count": 316,
     "metadata": {},
     "output_type": "execute_result"
    }
   ],
   "source": [
    "params"
   ]
  },
  {
   "cell_type": "code",
   "execution_count": 317,
   "metadata": {
    "ExecuteTime": {
     "end_time": "2020-07-07T15:22:58.994423Z",
     "start_time": "2020-07-07T15:22:58.893400Z"
    }
   },
   "outputs": [
    {
     "data": {
      "image/png": "[encoded data removed]",
      "text/plain": [
       "<Figure size 360x360 with 1 Axes>"
      ]
     },
     "metadata": {},
     "output_type": "display_data"
    }
   ],
   "source": [
    "plt.figure(figsize=(5,5))\n",
    "plt.plot(costs)\n",
    "plt.show()"
   ]
  },
  {
   "cell_type": "code",
   "execution_count": 318,
   "metadata": {
    "ExecuteTime": {
     "end_time": "2020-07-07T15:23:00.556499Z",
     "start_time": "2020-07-07T15:23:00.429469Z"
    }
   },
   "outputs": [
    {
     "data": {
      "image/png": "[encoded data removed]",
      "text/plain": [
       "<Figure size 576x576 with 1 Axes>"
      ]
     },
     "metadata": {},
     "output_type": "display_data"
    }
   ],
   "source": [
    "plt.figure(figsize=(8,8))\n",
    "plt.scatter(X, Y, color='blue')\n",
    "plt.scatter(X, preds[10], color='red')\n",
    "plt.show()"
   ]
  },
  {
   "cell_type": "code",
   "execution_count": 319,
   "metadata": {
    "ExecuteTime": {
     "end_time": "2020-07-07T15:23:02.952884Z",
     "start_time": "2020-07-07T15:23:02.948883Z"
    }
   },
   "outputs": [
    {
     "data": {
      "text/plain": [
       "array([0.70727667, 1.99305309])"
      ]
     },
     "execution_count": 319,
     "metadata": {},
     "output_type": "execute_result"
    }
   ],
   "source": [
    "params"
   ]
  },
  {
   "cell_type": "markdown",
   "metadata": {},
   "source": [
    "RMSprop gradiend descent"
   ]
  },
  {
   "cell_type": "code",
   "execution_count": 320,
   "metadata": {
    "ExecuteTime": {
     "end_time": "2020-07-07T15:23:05.072088Z",
     "start_time": "2020-07-07T15:23:05.061086Z"
    }
   },
   "outputs": [],
   "source": [
    "# h(xi) = params[0] + params[1] * xi\n",
    "\n",
    "EPOCHS = 12\n",
    "LEARNING_RATE = 0.4\n",
    "\n",
    "costs = []\n",
    "params = []\n",
    "preds = []\n",
    "params = np.random.normal(size=(2,))\n",
    "G = np.zeros((2,))\n",
    "eps = 10e-6\n",
    "\n",
    "beta = 0.8\n",
    "\n",
    "for _ in range(EPOCHS):\n",
    "    predictions = params[0] + params[1] * X\n",
    "    preds.append(predictions)\n",
    "\n",
    "    cost = np.sum(np.square(predictions - Y)) / (2 * len(predictions))\n",
    "    costs.append(cost)\n",
    "    \n",
    "    G[0] = beta*G[0] + (1-beta)*(np.sum(predictions - Y) / len(predictions))**2\n",
    "    G[1] = beta*G[1] + (1-beta)*(np.sum((predictions - Y) * X) / len(predictions))**2\n",
    "    \n",
    "    params[0] -= LEARNING_RATE * np.sum(predictions - Y) / len(predictions) / np.sqrt(G[0]+eps)\n",
    "    params[1] -= LEARNING_RATE * np.sum((predictions - Y) * X) / len(predictions) / np.sqrt(G[1]+eps)   "
   ]
  },
  {
   "cell_type": "code",
   "execution_count": 321,
   "metadata": {
    "ExecuteTime": {
     "end_time": "2020-07-07T15:23:06.839090Z",
     "start_time": "2020-07-07T15:23:06.734076Z"
    }
   },
   "outputs": [
    {
     "data": {
      "image/png": "[encoded data removed]",
      "text/plain": [
       "<Figure size 360x360 with 1 Axes>"
      ]
     },
     "metadata": {},
     "output_type": "display_data"
    }
   ],
   "source": [
    "plt.figure(figsize=(5,5))\n",
    "plt.plot(costs)\n",
    "plt.show()"
   ]
  },
  {
   "cell_type": "code",
   "execution_count": 322,
   "metadata": {
    "ExecuteTime": {
     "end_time": "2020-07-07T15:23:08.489745Z",
     "start_time": "2020-07-07T15:23:08.486755Z"
    }
   },
   "outputs": [
    {
     "data": {
      "text/plain": [
       "array([1.5063194 , 1.93269139])"
      ]
     },
     "execution_count": 322,
     "metadata": {},
     "output_type": "execute_result"
    }
   ],
   "source": [
    "params"
   ]
  },
  {
   "cell_type": "code",
   "execution_count": 323,
   "metadata": {
    "ExecuteTime": {
     "end_time": "2020-07-07T15:23:09.062951Z",
     "start_time": "2020-07-07T15:23:08.933922Z"
    }
   },
   "outputs": [
    {
     "data": {
      "image/png": "[encoded data removed]",
      "text/plain": [
       "<Figure size 576x576 with 1 Axes>"
      ]
     },
     "metadata": {},
     "output_type": "display_data"
    }
   ],
   "source": [
    "plt.figure(figsize=(8,8))\n",
    "plt.scatter(X, Y, color='blue')\n",
    "plt.scatter(X, preds[10], color='red')\n",
    "plt.show()"
   ]
  },
  {
   "cell_type": "code",
   "execution_count": null,
   "metadata": {},
   "outputs": [],
   "source": []
  },
  {
   "cell_type": "code",
   "execution_count": null,
   "metadata": {},
   "outputs": [],
   "source": []
  },
  {
   "cell_type": "code",
   "execution_count": null,
   "metadata": {},
   "outputs": [],
   "source": []
  }
 ],
 "metadata": {
  "kernelspec": {
   "display_name": "Python 3",
   "language": "python",
   "name": "python3"
  },
  "language_info": {
   "codemirror_mode": {
    "name": "ipython",
    "version": 3
   },
   "file_extension": ".py",
   "mimetype": "text/x-python",
   "name": "python",
   "nbconvert_exporter": "python",
   "pygments_lexer": "ipython3",
   "version": "3.7.1"
  },
  "varInspector": {
   "cols": {
    "lenName": 16,
    "lenType": 16,
    "lenVar": 40
   },
   "kernels_config": {
    "python": {
     "delete_cmd_postfix": "",
     "delete_cmd_prefix": "del ",
     "library": "var_list.py",
     "varRefreshCmd": "print(var_dic_list())"
    },
    "r": {
     "delete_cmd_postfix": ") ",
     "delete_cmd_prefix": "rm(",
     "library": "var_list.r",
     "varRefreshCmd": "cat(var_dic_list()) "
    }
   },
   "types_to_exclude": [
    "module",
    "function",
    "builtin_function_or_method",
    "instance",
    "_Feature"
   ],
   "window_display": false
  }
 },
 "nbformat": 4,
 "nbformat_minor": 2
}
