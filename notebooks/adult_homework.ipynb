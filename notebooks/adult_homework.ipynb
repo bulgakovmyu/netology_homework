{
 "cells": [
  {
   "cell_type": "code",
   "execution_count": 1,
   "metadata": {
    "ExecuteTime": {
     "end_time": "2020-07-11T21:47:17.676395Z",
     "start_time": "2020-07-11T21:47:13.341347Z"
    }
   },
   "outputs": [],
   "source": [
    "import pandas as pd\n",
    "from sklearn.model_selection import train_test_split\n",
    "from matplotlib import pyplot as plt"
   ]
  },
  {
   "cell_type": "code",
   "execution_count": 2,
   "metadata": {
    "ExecuteTime": {
     "end_time": "2020-07-11T21:47:22.948669Z",
     "start_time": "2020-07-11T21:47:22.728618Z"
    }
   },
   "outputs": [],
   "source": [
    "df = pd.read_csv(\"adult.csv\")"
   ]
  },
  {
   "cell_type": "code",
   "execution_count": 3,
   "metadata": {
    "ExecuteTime": {
     "end_time": "2020-07-11T21:47:22.993681Z",
     "start_time": "2020-07-11T21:47:22.951670Z"
    }
   },
   "outputs": [
    {
     "data": {
      "text/html": [
       "<div>\n",
       "<style scoped>\n",
       "    .dataframe tbody tr th:only-of-type {\n",
       "        vertical-align: middle;\n",
       "    }\n",
       "\n",
       "    .dataframe tbody tr th {\n",
       "        vertical-align: top;\n",
       "    }\n",
       "\n",
       "    .dataframe thead th {\n",
       "        text-align: right;\n",
       "    }\n",
       "</style>\n",
       "<table border=\"1\" class=\"dataframe\">\n",
       "  <thead>\n",
       "    <tr style=\"text-align: right;\">\n",
       "      <th></th>\n",
       "      <th>age</th>\n",
       "      <th>workclass</th>\n",
       "      <th>fnlwgt</th>\n",
       "      <th>education</th>\n",
       "      <th>educational-num</th>\n",
       "      <th>marital-status</th>\n",
       "      <th>occupation</th>\n",
       "      <th>relationship</th>\n",
       "      <th>race</th>\n",
       "      <th>gender</th>\n",
       "      <th>capital-gain</th>\n",
       "      <th>capital-loss</th>\n",
       "      <th>hours-per-week</th>\n",
       "      <th>native-country</th>\n",
       "      <th>income</th>\n",
       "    </tr>\n",
       "  </thead>\n",
       "  <tbody>\n",
       "    <tr>\n",
       "      <th>0</th>\n",
       "      <td>25</td>\n",
       "      <td>Private</td>\n",
       "      <td>226802</td>\n",
       "      <td>11th</td>\n",
       "      <td>7</td>\n",
       "      <td>Never-married</td>\n",
       "      <td>Machine-op-inspct</td>\n",
       "      <td>Own-child</td>\n",
       "      <td>Black</td>\n",
       "      <td>Male</td>\n",
       "      <td>0</td>\n",
       "      <td>0</td>\n",
       "      <td>40</td>\n",
       "      <td>United-States</td>\n",
       "      <td>&lt;=50K</td>\n",
       "    </tr>\n",
       "    <tr>\n",
       "      <th>1</th>\n",
       "      <td>38</td>\n",
       "      <td>Private</td>\n",
       "      <td>89814</td>\n",
       "      <td>HS-grad</td>\n",
       "      <td>9</td>\n",
       "      <td>Married-civ-spouse</td>\n",
       "      <td>Farming-fishing</td>\n",
       "      <td>Husband</td>\n",
       "      <td>White</td>\n",
       "      <td>Male</td>\n",
       "      <td>0</td>\n",
       "      <td>0</td>\n",
       "      <td>50</td>\n",
       "      <td>United-States</td>\n",
       "      <td>&lt;=50K</td>\n",
       "    </tr>\n",
       "    <tr>\n",
       "      <th>2</th>\n",
       "      <td>28</td>\n",
       "      <td>Local-gov</td>\n",
       "      <td>336951</td>\n",
       "      <td>Assoc-acdm</td>\n",
       "      <td>12</td>\n",
       "      <td>Married-civ-spouse</td>\n",
       "      <td>Protective-serv</td>\n",
       "      <td>Husband</td>\n",
       "      <td>White</td>\n",
       "      <td>Male</td>\n",
       "      <td>0</td>\n",
       "      <td>0</td>\n",
       "      <td>40</td>\n",
       "      <td>United-States</td>\n",
       "      <td>&gt;50K</td>\n",
       "    </tr>\n",
       "  </tbody>\n",
       "</table>\n",
       "</div>"
      ],
      "text/plain": [
       "   age  workclass  fnlwgt   education  educational-num      marital-status  \\\n",
       "0   25    Private  226802        11th                7       Never-married   \n",
       "1   38    Private   89814     HS-grad                9  Married-civ-spouse   \n",
       "2   28  Local-gov  336951  Assoc-acdm               12  Married-civ-spouse   \n",
       "\n",
       "          occupation relationship   race gender  capital-gain  capital-loss  \\\n",
       "0  Machine-op-inspct    Own-child  Black   Male             0             0   \n",
       "1    Farming-fishing      Husband  White   Male             0             0   \n",
       "2    Protective-serv      Husband  White   Male             0             0   \n",
       "\n",
       "   hours-per-week native-country income  \n",
       "0              40  United-States  <=50K  \n",
       "1              50  United-States  <=50K  \n",
       "2              40  United-States   >50K  "
      ]
     },
     "execution_count": 3,
     "metadata": {},
     "output_type": "execute_result"
    }
   ],
   "source": [
    "df.head(3)"
   ]
  },
  {
   "cell_type": "code",
   "execution_count": 4,
   "metadata": {
    "ExecuteTime": {
     "end_time": "2020-07-11T21:47:23.161721Z",
     "start_time": "2020-07-11T21:47:23.154720Z"
    }
   },
   "outputs": [
    {
     "data": {
      "text/plain": [
       "(48842, 15)"
      ]
     },
     "execution_count": 4,
     "metadata": {},
     "output_type": "execute_result"
    }
   ],
   "source": [
    "df.shape"
   ]
  },
  {
   "cell_type": "code",
   "execution_count": 5,
   "metadata": {
    "ExecuteTime": {
     "end_time": "2020-07-11T21:47:23.396778Z",
     "start_time": "2020-07-11T21:47:23.342765Z"
    }
   },
   "outputs": [
    {
     "name": "stdout",
     "output_type": "stream",
     "text": [
      "<class 'pandas.core.frame.DataFrame'>\n",
      "RangeIndex: 48842 entries, 0 to 48841\n",
      "Data columns (total 15 columns):\n",
      " #   Column           Non-Null Count  Dtype \n",
      "---  ------           --------------  ----- \n",
      " 0   age              48842 non-null  int64 \n",
      " 1   workclass        48842 non-null  object\n",
      " 2   fnlwgt           48842 non-null  int64 \n",
      " 3   education        48842 non-null  object\n",
      " 4   educational-num  48842 non-null  int64 \n",
      " 5   marital-status   48842 non-null  object\n",
      " 6   occupation       48842 non-null  object\n",
      " 7   relationship     48842 non-null  object\n",
      " 8   race             48842 non-null  object\n",
      " 9   gender           48842 non-null  object\n",
      " 10  capital-gain     48842 non-null  int64 \n",
      " 11  capital-loss     48842 non-null  int64 \n",
      " 12  hours-per-week   48842 non-null  int64 \n",
      " 13  native-country   48842 non-null  object\n",
      " 14  income           48842 non-null  object\n",
      "dtypes: int64(6), object(9)\n",
      "memory usage: 5.6+ MB\n"
     ]
    }
   ],
   "source": [
    "df.info()"
   ]
  },
  {
   "cell_type": "code",
   "execution_count": 6,
   "metadata": {
    "ExecuteTime": {
     "end_time": "2020-07-11T21:47:23.723858Z",
     "start_time": "2020-07-11T21:47:23.624834Z"
    }
   },
   "outputs": [
    {
     "name": "stdout",
     "output_type": "stream",
     "text": [
      ">>> workclass: 9 elements: ['Private' 'Local-gov' '?' 'Self-emp-not-inc' 'Federal-gov' 'State-gov'\n",
      " 'Self-emp-inc' 'Without-pay' 'Never-worked']\n",
      ">>> marital-status: 7 elements: ['Never-married' 'Married-civ-spouse' 'Widowed' 'Divorced' 'Separated'\n",
      " 'Married-spouse-absent' 'Married-AF-spouse']\n",
      ">>> occupation: 15 elements: ['Machine-op-inspct' 'Farming-fishing' 'Protective-serv' '?'\n",
      " 'Other-service' 'Prof-specialty' 'Craft-repair' 'Adm-clerical'\n",
      " 'Exec-managerial' 'Tech-support' 'Sales' 'Priv-house-serv'\n",
      " 'Transport-moving' 'Handlers-cleaners' 'Armed-Forces']\n",
      ">>> relationship: 6 elements: ['Own-child' 'Husband' 'Not-in-family' 'Unmarried' 'Wife' 'Other-relative']\n",
      ">>> race: 5 elements: ['Black' 'White' 'Asian-Pac-Islander' 'Other' 'Amer-Indian-Eskimo']\n",
      ">>> gender: 2 elements: ['Male' 'Female']\n",
      ">>> native-country: 42 elements: ['United-States' '?' 'Peru' 'Guatemala' 'Mexico' 'Dominican-Republic'\n",
      " 'Ireland' 'Germany' 'Philippines' 'Thailand' 'Haiti' 'El-Salvador'\n",
      " 'Puerto-Rico' 'Vietnam' 'South' 'Columbia' 'Japan' 'India' 'Cambodia'\n",
      " 'Poland' 'Laos' 'England' 'Cuba' 'Taiwan' 'Italy' 'Canada' 'Portugal'\n",
      " 'China' 'Nicaragua' 'Honduras' 'Iran' 'Scotland' 'Jamaica' 'Ecuador'\n",
      " 'Yugoslavia' 'Hungary' 'Hong' 'Greece' 'Trinadad&Tobago'\n",
      " 'Outlying-US(Guam-USVI-etc)' 'France' 'Holand-Netherlands']\n",
      ">>> income: 2 elements: ['<=50K' '>50K']\n"
     ]
    }
   ],
   "source": [
    "print('>>> workclass:',len(df.workclass.unique()), 'elements:' ,df.workclass.unique())\n",
    "print('>>> marital-status:',len(df['marital-status'].unique()), 'elements:' ,df['marital-status'].unique())\n",
    "print('>>> occupation:',len(df['occupation'].unique()), 'elements:' ,df['occupation'].unique())\n",
    "print('>>> relationship:',len(df['relationship'].unique()), 'elements:' ,df['relationship'].unique())\n",
    "print('>>> race:',len(df['race'].unique()), 'elements:' ,df['race'].unique())\n",
    "print('>>> gender:',len(df['gender'].unique()), 'elements:' ,df['gender'].unique())\n",
    "print('>>> native-country:',len(df['native-country'].unique()), 'elements:' ,df['native-country'].unique())\n",
    "print('>>> income:',len(df['income'].unique()), 'elements:' ,df['income'].unique())"
   ]
  },
  {
   "cell_type": "code",
   "execution_count": 7,
   "metadata": {
    "ExecuteTime": {
     "end_time": "2020-07-11T21:47:23.928906Z",
     "start_time": "2020-07-11T21:47:23.869894Z"
    }
   },
   "outputs": [
    {
     "data": {
      "text/plain": [
       "native-country\n",
       "United-States    43832\n",
       "Mexico             951\n",
       "?                  857\n",
       "Philippines        295\n",
       "Germany            206\n",
       "Name: income, dtype: int64"
      ]
     },
     "execution_count": 7,
     "metadata": {},
     "output_type": "execute_result"
    }
   ],
   "source": [
    "df.groupby('native-country').count().sort_values(by='income', ascending=False).head(5).income"
   ]
  },
  {
   "cell_type": "markdown",
   "metadata": {
    "ExecuteTime": {
     "end_time": "2020-07-11T20:16:36.047116Z",
     "start_time": "2020-07-11T20:16:36.044114Z"
    }
   },
   "source": [
    "native-country исключаем из-за слишком неравномерного распределения"
   ]
  },
  {
   "cell_type": "code",
   "execution_count": 8,
   "metadata": {
    "ExecuteTime": {
     "end_time": "2020-07-11T21:47:24.421026Z",
     "start_time": "2020-07-11T21:47:24.413026Z"
    }
   },
   "outputs": [
    {
     "name": "stdout",
     "output_type": "stream",
     "text": [
      "['age', 'fnlwgt', 'educational-num', 'capital-gain', 'capital-loss', 'hours-per-week']\n"
     ]
    }
   ],
   "source": [
    "print(list(df.dtypes[df.dtypes=='int64'].index))"
   ]
  },
  {
   "cell_type": "code",
   "execution_count": 9,
   "metadata": {
    "ExecuteTime": {
     "end_time": "2020-07-11T21:47:25.725340Z",
     "start_time": "2020-07-11T21:47:24.677087Z"
    }
   },
   "outputs": [
    {
     "data": {
      "text/plain": [
       "array([[<matplotlib.axes._subplots.AxesSubplot object at 0x00000158F7FE0940>,\n",
       "        <matplotlib.axes._subplots.AxesSubplot object at 0x00000158F8228240>],\n",
       "       [<matplotlib.axes._subplots.AxesSubplot object at 0x00000158F825D4A8>,\n",
       "        <matplotlib.axes._subplots.AxesSubplot object at 0x00000158F8291710>]],\n",
       "      dtype=object)"
      ]
     },
     "execution_count": 9,
     "metadata": {},
     "output_type": "execute_result"
    },
    {
     "data": {
      "image/png": "[encoded data removed]",
      "text/plain": [
       "<Figure size 432x288 with 4 Axes>"
      ]
     },
     "metadata": {
      "needs_background": "light"
     },
     "output_type": "display_data"
    }
   ],
   "source": [
    "df.hist(column=[\"educational-num\", \"capital-gain\", \"capital-loss\", \"hours-per-week\"])"
   ]
  },
  {
   "cell_type": "markdown",
   "metadata": {
    "ExecuteTime": {
     "end_time": "2020-07-11T20:29:58.905035Z",
     "start_time": "2020-07-11T20:29:58.901035Z"
    }
   },
   "source": [
    "\"capital-gain\" и \"capital-loss\" убираем из-за множества нулей в распределении"
   ]
  },
  {
   "cell_type": "code",
   "execution_count": 10,
   "metadata": {
    "ExecuteTime": {
     "end_time": "2020-07-11T21:47:25.755348Z",
     "start_time": "2020-07-11T21:47:25.729342Z"
    }
   },
   "outputs": [],
   "source": [
    "numerical = ['age', 'educational-num', 'hours-per-week']\n",
    "categorical = ['workclass', 'marital-status', 'occupation', 'race']\n",
    "dummy = ['gender']\n",
    "target = ['income']"
   ]
  },
  {
   "cell_type": "markdown",
   "metadata": {},
   "source": [
    "Группируем некоторые значения полей"
   ]
  },
  {
   "cell_type": "code",
   "execution_count": 11,
   "metadata": {
    "ExecuteTime": {
     "end_time": "2020-07-11T21:47:26.464523Z",
     "start_time": "2020-07-11T21:47:26.455517Z"
    }
   },
   "outputs": [],
   "source": [
    "workclass_dict = {'Private':'Private', 'Local-gov':'Government', '?':'Other/Unknown',\n",
    "                  'Self-emp-not-inc':'Self-employed', 'Federal-gov':'Government',\n",
    "                  'State-gov':'Government', 'Self-emp-inc':'Self-employed', 'Without-pay':'Other/Unknown',\n",
    "                  'Never-worked':'Other/Unknown'}\n",
    "marital_status_dict = {'Never-married':'Single', 'Married-civ-spouse':'Married', \n",
    "                       'Married-spouse-absent':'Married', 'Married-AF-spouse':'Married'}\n",
    "occupation_dict = {'Adm-clerical':'White-Collar', 'Craft-repair':'Blue-Collar',\n",
    "                   'Exec-managerial':'White-Collar', 'Farming-fishing':'Blue-Collar',\n",
    "                   'Handlers-cleaners':'Blue-Collar', 'Machine-op-inspct':'Blue-Collar',\n",
    "                   'Other-service':'Service', 'Priv-house-serv':'Service', 'Prof-specialty':'Professional',\n",
    "                   'Protective-serv':'Service', 'Tech-support':'Service', 'Transport-moving':'Blue-Collar',\n",
    "                   '?':'Other/Unknown', 'Armed-Forces':'Other/Unknown'}"
   ]
  },
  {
   "cell_type": "code",
   "execution_count": 12,
   "metadata": {
    "ExecuteTime": {
     "end_time": "2020-07-11T21:47:27.207700Z",
     "start_time": "2020-07-11T21:47:27.091671Z"
    }
   },
   "outputs": [],
   "source": [
    "df.workclass.replace(to_replace=workclass_dict, inplace=True)\n",
    "df['marital-status'].replace(to_replace=marital_status_dict, inplace=True)\n",
    "df.occupation.replace(to_replace=occupation_dict, inplace=True)\n",
    "df.gender.replace(to_replace={'Male':0, 'Female':1}, inplace=True)\n",
    "df.income.replace(to_replace={'<=50K':0, '>50K':1}, inplace=True)"
   ]
  },
  {
   "cell_type": "code",
   "execution_count": 13,
   "metadata": {
    "ExecuteTime": {
     "end_time": "2020-07-11T21:47:27.605796Z",
     "start_time": "2020-07-11T21:47:27.572789Z"
    }
   },
   "outputs": [
    {
     "name": "stdout",
     "output_type": "stream",
     "text": [
      ">>> workclass: 4 elements: ['Private' 'Government' 'Other/Unknown' 'Self-employed']\n",
      ">>> marital-status: 5 elements: ['Single' 'Married' 'Widowed' 'Divorced' 'Separated']\n",
      ">>> occupation: 6 elements: ['Blue-Collar' 'Service' 'Other/Unknown' 'Professional' 'White-Collar'\n",
      " 'Sales']\n"
     ]
    }
   ],
   "source": [
    "print('>>> workclass:',len(df.workclass.unique()), 'elements:' ,df.workclass.unique())\n",
    "print('>>> marital-status:',len(df['marital-status'].unique()), 'elements:' ,df['marital-status'].unique())\n",
    "print('>>> occupation:',len(df['occupation'].unique()), 'elements:' ,df['occupation'].unique())"
   ]
  },
  {
   "cell_type": "code",
   "execution_count": 14,
   "metadata": {
    "ExecuteTime": {
     "end_time": "2020-07-11T21:47:28.150928Z",
     "start_time": "2020-07-11T21:47:28.045902Z"
    }
   },
   "outputs": [
    {
     "data": {
      "text/html": [
       "<div>\n",
       "<style scoped>\n",
       "    .dataframe tbody tr th:only-of-type {\n",
       "        vertical-align: middle;\n",
       "    }\n",
       "\n",
       "    .dataframe tbody tr th {\n",
       "        vertical-align: top;\n",
       "    }\n",
       "\n",
       "    .dataframe thead th {\n",
       "        text-align: right;\n",
       "    }\n",
       "</style>\n",
       "<table border=\"1\" class=\"dataframe\">\n",
       "  <thead>\n",
       "    <tr style=\"text-align: right;\">\n",
       "      <th></th>\n",
       "      <th>age</th>\n",
       "      <th>educational-num</th>\n",
       "      <th>hours-per-week</th>\n",
       "      <th>gender</th>\n",
       "      <th>income</th>\n",
       "      <th>workclass_Government</th>\n",
       "      <th>workclass_Other/Unknown</th>\n",
       "      <th>workclass_Private</th>\n",
       "      <th>workclass_Self-employed</th>\n",
       "      <th>marital-status_Divorced</th>\n",
       "      <th>...</th>\n",
       "      <th>occupation_Other/Unknown</th>\n",
       "      <th>occupation_Professional</th>\n",
       "      <th>occupation_Sales</th>\n",
       "      <th>occupation_Service</th>\n",
       "      <th>occupation_White-Collar</th>\n",
       "      <th>race_Amer-Indian-Eskimo</th>\n",
       "      <th>race_Asian-Pac-Islander</th>\n",
       "      <th>race_Black</th>\n",
       "      <th>race_Other</th>\n",
       "      <th>race_White</th>\n",
       "    </tr>\n",
       "  </thead>\n",
       "  <tbody>\n",
       "    <tr>\n",
       "      <th>0</th>\n",
       "      <td>25</td>\n",
       "      <td>7</td>\n",
       "      <td>40</td>\n",
       "      <td>0</td>\n",
       "      <td>0</td>\n",
       "      <td>0</td>\n",
       "      <td>0</td>\n",
       "      <td>1</td>\n",
       "      <td>0</td>\n",
       "      <td>0</td>\n",
       "      <td>...</td>\n",
       "      <td>0</td>\n",
       "      <td>0</td>\n",
       "      <td>0</td>\n",
       "      <td>0</td>\n",
       "      <td>0</td>\n",
       "      <td>0</td>\n",
       "      <td>0</td>\n",
       "      <td>1</td>\n",
       "      <td>0</td>\n",
       "      <td>0</td>\n",
       "    </tr>\n",
       "    <tr>\n",
       "      <th>1</th>\n",
       "      <td>38</td>\n",
       "      <td>9</td>\n",
       "      <td>50</td>\n",
       "      <td>0</td>\n",
       "      <td>0</td>\n",
       "      <td>0</td>\n",
       "      <td>0</td>\n",
       "      <td>1</td>\n",
       "      <td>0</td>\n",
       "      <td>0</td>\n",
       "      <td>...</td>\n",
       "      <td>0</td>\n",
       "      <td>0</td>\n",
       "      <td>0</td>\n",
       "      <td>0</td>\n",
       "      <td>0</td>\n",
       "      <td>0</td>\n",
       "      <td>0</td>\n",
       "      <td>0</td>\n",
       "      <td>0</td>\n",
       "      <td>1</td>\n",
       "    </tr>\n",
       "    <tr>\n",
       "      <th>2</th>\n",
       "      <td>28</td>\n",
       "      <td>12</td>\n",
       "      <td>40</td>\n",
       "      <td>0</td>\n",
       "      <td>1</td>\n",
       "      <td>1</td>\n",
       "      <td>0</td>\n",
       "      <td>0</td>\n",
       "      <td>0</td>\n",
       "      <td>0</td>\n",
       "      <td>...</td>\n",
       "      <td>0</td>\n",
       "      <td>0</td>\n",
       "      <td>0</td>\n",
       "      <td>1</td>\n",
       "      <td>0</td>\n",
       "      <td>0</td>\n",
       "      <td>0</td>\n",
       "      <td>0</td>\n",
       "      <td>0</td>\n",
       "      <td>1</td>\n",
       "    </tr>\n",
       "    <tr>\n",
       "      <th>3</th>\n",
       "      <td>44</td>\n",
       "      <td>10</td>\n",
       "      <td>40</td>\n",
       "      <td>0</td>\n",
       "      <td>1</td>\n",
       "      <td>0</td>\n",
       "      <td>0</td>\n",
       "      <td>1</td>\n",
       "      <td>0</td>\n",
       "      <td>0</td>\n",
       "      <td>...</td>\n",
       "      <td>0</td>\n",
       "      <td>0</td>\n",
       "      <td>0</td>\n",
       "      <td>0</td>\n",
       "      <td>0</td>\n",
       "      <td>0</td>\n",
       "      <td>0</td>\n",
       "      <td>1</td>\n",
       "      <td>0</td>\n",
       "      <td>0</td>\n",
       "    </tr>\n",
       "    <tr>\n",
       "      <th>4</th>\n",
       "      <td>18</td>\n",
       "      <td>10</td>\n",
       "      <td>30</td>\n",
       "      <td>1</td>\n",
       "      <td>0</td>\n",
       "      <td>0</td>\n",
       "      <td>1</td>\n",
       "      <td>0</td>\n",
       "      <td>0</td>\n",
       "      <td>0</td>\n",
       "      <td>...</td>\n",
       "      <td>1</td>\n",
       "      <td>0</td>\n",
       "      <td>0</td>\n",
       "      <td>0</td>\n",
       "      <td>0</td>\n",
       "      <td>0</td>\n",
       "      <td>0</td>\n",
       "      <td>0</td>\n",
       "      <td>0</td>\n",
       "      <td>1</td>\n",
       "    </tr>\n",
       "  </tbody>\n",
       "</table>\n",
       "<p>5 rows × 25 columns</p>\n",
       "</div>"
      ],
      "text/plain": [
       "   age  educational-num  hours-per-week  gender  income  workclass_Government  \\\n",
       "0   25                7              40       0       0                     0   \n",
       "1   38                9              50       0       0                     0   \n",
       "2   28               12              40       0       1                     1   \n",
       "3   44               10              40       0       1                     0   \n",
       "4   18               10              30       1       0                     0   \n",
       "\n",
       "   workclass_Other/Unknown  workclass_Private  workclass_Self-employed  \\\n",
       "0                        0                  1                        0   \n",
       "1                        0                  1                        0   \n",
       "2                        0                  0                        0   \n",
       "3                        0                  1                        0   \n",
       "4                        1                  0                        0   \n",
       "\n",
       "   marital-status_Divorced  ...  occupation_Other/Unknown  \\\n",
       "0                        0  ...                         0   \n",
       "1                        0  ...                         0   \n",
       "2                        0  ...                         0   \n",
       "3                        0  ...                         0   \n",
       "4                        0  ...                         1   \n",
       "\n",
       "   occupation_Professional  occupation_Sales  occupation_Service  \\\n",
       "0                        0                 0                   0   \n",
       "1                        0                 0                   0   \n",
       "2                        0                 0                   1   \n",
       "3                        0                 0                   0   \n",
       "4                        0                 0                   0   \n",
       "\n",
       "   occupation_White-Collar  race_Amer-Indian-Eskimo  race_Asian-Pac-Islander  \\\n",
       "0                        0                        0                        0   \n",
       "1                        0                        0                        0   \n",
       "2                        0                        0                        0   \n",
       "3                        0                        0                        0   \n",
       "4                        0                        0                        0   \n",
       "\n",
       "   race_Black  race_Other  race_White  \n",
       "0           1           0           0  \n",
       "1           0           0           1  \n",
       "2           0           0           1  \n",
       "3           1           0           0  \n",
       "4           0           0           1  \n",
       "\n",
       "[5 rows x 25 columns]"
      ]
     },
     "execution_count": 14,
     "metadata": {},
     "output_type": "execute_result"
    }
   ],
   "source": [
    "df_reduced = pd.get_dummies(df[numerical+categorical+dummy+target], columns=categorical)\n",
    "df_reduced.head()"
   ]
  },
  {
   "cell_type": "code",
   "execution_count": 15,
   "metadata": {
    "ExecuteTime": {
     "end_time": "2020-07-11T21:47:28.789082Z",
     "start_time": "2020-07-11T21:47:28.748071Z"
    }
   },
   "outputs": [],
   "source": [
    "X_train,  X_test, y_train, y_test = train_test_split(df_reduced.drop(columns=['income']), \n",
    "                                                     df_reduced.income, \n",
    "                                                     test_size=0.3)"
   ]
  },
  {
   "cell_type": "markdown",
   "metadata": {},
   "source": [
    "### Models"
   ]
  },
  {
   "cell_type": "code",
   "execution_count": 16,
   "metadata": {
    "ExecuteTime": {
     "end_time": "2020-07-11T21:47:31.665779Z",
     "start_time": "2020-07-11T21:47:31.659776Z"
    }
   },
   "outputs": [],
   "source": [
    "from sklearn.metrics import recall_score\n",
    "from sklearn.metrics import accuracy_score\n",
    "from sklearn.metrics import precision_score\n",
    "from sklearn.metrics import f1_score\n",
    "from sklearn.metrics import roc_curve\n",
    "from sklearn.metrics import roc_auc_score"
   ]
  },
  {
   "cell_type": "markdown",
   "metadata": {},
   "source": [
    "Логистическая регрессия"
   ]
  },
  {
   "cell_type": "code",
   "execution_count": 91,
   "metadata": {
    "ExecuteTime": {
     "end_time": "2020-07-11T20:44:06.905292Z",
     "start_time": "2020-07-11T20:44:06.902291Z"
    }
   },
   "outputs": [],
   "source": [
    "from sklearn.linear_model import LogisticRegression"
   ]
  },
  {
   "cell_type": "code",
   "execution_count": 98,
   "metadata": {
    "ExecuteTime": {
     "end_time": "2020-07-11T20:48:36.096656Z",
     "start_time": "2020-07-11T20:48:35.951605Z"
    }
   },
   "outputs": [
    {
     "data": {
      "text/plain": [
       "LogisticRegression(C=1.0, class_weight=None, dual=False, fit_intercept=True,\n",
       "                   intercept_scaling=1, l1_ratio=None, max_iter=100,\n",
       "                   multi_class='auto', n_jobs=None, penalty='l2',\n",
       "                   random_state=None, solver='liblinear', tol=0.0001, verbose=0,\n",
       "                   warm_start=False)"
      ]
     },
     "execution_count": 98,
     "metadata": {},
     "output_type": "execute_result"
    }
   ],
   "source": [
    "LRClas  = LogisticRegression(solver='liblinear',\n",
    "                            penalty= 'l2')\n",
    "LRClas.fit(X_train, y_train)"
   ]
  },
  {
   "cell_type": "code",
   "execution_count": 100,
   "metadata": {
    "ExecuteTime": {
     "end_time": "2020-07-11T20:50:01.378066Z",
     "start_time": "2020-07-11T20:50:01.339052Z"
    }
   },
   "outputs": [
    {
     "name": "stdout",
     "output_type": "stream",
     "text": [
      "accuracy: 0.8278850747287245\n",
      "precision: 0.6847457627118644\n",
      "recall: 0.5189837282329431\n",
      "f: 0.5904514452744397\n"
     ]
    }
   ],
   "source": [
    "print('accuracy:',accuracy_score(y_test, LRClas.predict(X_test)))\n",
    "print('precision:',precision_score(y_test,LRClas.predict(X_test)))\n",
    "print('recall:',recall_score(y_test,LRClas.predict(X_test)))\n",
    "print('f:',f1_score(y_test,LRClas.predict(X_test)))"
   ]
  },
  {
   "cell_type": "code",
   "execution_count": 123,
   "metadata": {
    "ExecuteTime": {
     "end_time": "2020-07-11T21:02:39.390323Z",
     "start_time": "2020-07-11T21:02:39.261288Z"
    }
   },
   "outputs": [
    {
     "name": "stdout",
     "output_type": "stream",
     "text": [
      "roc_auc_score:  0.8777427291661599\n"
     ]
    },
    {
     "data": {
      "text/plain": [
       "[<matplotlib.lines.Line2D at 0x18362678518>]"
      ]
     },
     "execution_count": 123,
     "metadata": {},
     "output_type": "execute_result"
    },
    {
     "data": {
      "image/png": "[encoded data removed]",
      "text/plain": [
       "<Figure size 432x288 with 1 Axes>"
      ]
     },
     "metadata": {
      "needs_background": "light"
     },
     "output_type": "display_data"
    }
   ],
   "source": [
    "fpr, tpr, thres = roc_curve(y_test, LRClas.predict_proba(X_test)[:,1])\n",
    "print('roc_auc_score: ',roc_auc_score(y_test, LRClas.predict_proba(X_test)[:,1]))\n",
    "plt.plot( fpr, tpr )"
   ]
  },
  {
   "cell_type": "markdown",
   "metadata": {
    "ExecuteTime": {
     "end_time": "2020-07-11T20:53:24.551975Z",
     "start_time": "2020-07-11T20:53:24.547983Z"
    }
   },
   "source": [
    "Случайный лес"
   ]
  },
  {
   "cell_type": "code",
   "execution_count": 18,
   "metadata": {
    "ExecuteTime": {
     "end_time": "2020-07-11T21:48:31.825841Z",
     "start_time": "2020-07-11T21:48:31.387734Z"
    }
   },
   "outputs": [],
   "source": [
    "from sklearn.ensemble import RandomForestClassifier\n",
    "from sklearn.model_selection import GridSearchCV, StratifiedShuffleSplit"
   ]
  },
  {
   "cell_type": "code",
   "execution_count": 118,
   "metadata": {
    "ExecuteTime": {
     "end_time": "2020-07-11T21:00:57.641219Z",
     "start_time": "2020-07-11T21:00:26.838505Z"
    }
   },
   "outputs": [],
   "source": [
    "n_estimators = [30,50,100];\n",
    "max_depth = [3, 5, 7, 15];\n",
    "criterions = ['gini', 'entropy'];\n",
    "cv = StratifiedShuffleSplit(n_splits=10, test_size=.30, random_state=1)\n",
    "\n",
    "parameters = {'n_estimators':n_estimators,\n",
    "              'max_depth':max_depth,\n",
    "              'criterion': criterions\n",
    "             }\n",
    "grid_RF = GridSearchCV(estimator=RandomForestClassifier(max_features='auto', n_jobs=-1),\n",
    "                                 param_grid=parameters,\n",
    "                                 cv=cv,\n",
    "                                 n_jobs = -1)\n",
    "grid_RF = grid_RF.fit(X_train, y_train).best_estimator_"
   ]
  },
  {
   "cell_type": "code",
   "execution_count": 117,
   "metadata": {
    "ExecuteTime": {
     "end_time": "2020-07-11T20:59:23.304405Z",
     "start_time": "2020-07-11T20:59:23.299403Z"
    }
   },
   "outputs": [
    {
     "data": {
      "text/plain": [
       "RandomForestClassifier(bootstrap=True, ccp_alpha=0.0, class_weight=None,\n",
       "                       criterion='entropy', max_depth=15, max_features='auto',\n",
       "                       max_leaf_nodes=None, max_samples=None,\n",
       "                       min_impurity_decrease=0.0, min_impurity_split=None,\n",
       "                       min_samples_leaf=1, min_samples_split=2,\n",
       "                       min_weight_fraction_leaf=0.0, n_estimators=50,\n",
       "                       n_jobs=None, oob_score=False, random_state=None,\n",
       "                       verbose=0, warm_start=False)"
      ]
     },
     "execution_count": 117,
     "metadata": {},
     "output_type": "execute_result"
    }
   ],
   "source": [
    "grid_RF"
   ]
  },
  {
   "cell_type": "code",
   "execution_count": 116,
   "metadata": {
    "ExecuteTime": {
     "end_time": "2020-07-11T20:59:01.643816Z",
     "start_time": "2020-07-11T20:59:01.185689Z"
    }
   },
   "outputs": [
    {
     "name": "stdout",
     "output_type": "stream",
     "text": [
      "accuracy: 0.8327304988739507\n",
      "precision: 0.6959761549925484\n",
      "recall: 0.5332572081073366\n",
      "f: 0.6038467754970098\n"
     ]
    }
   ],
   "source": [
    "print('accuracy:',accuracy_score(y_test, grid_RF.predict(X_test)))\n",
    "print('precision:',precision_score(y_test,grid_RF.predict(X_test)))\n",
    "print('recall:',recall_score(y_test,grid_RF.predict(X_test)))\n",
    "print('f:',f1_score(y_test,grid_RF.predict(X_test)))"
   ]
  },
  {
   "cell_type": "code",
   "execution_count": 124,
   "metadata": {
    "ExecuteTime": {
     "end_time": "2020-07-11T21:02:55.919067Z",
     "start_time": "2020-07-11T21:02:55.582979Z"
    }
   },
   "outputs": [
    {
     "name": "stdout",
     "output_type": "stream",
     "text": [
      "roc_auc_score:  0.8867958917980617\n"
     ]
    },
    {
     "data": {
      "text/plain": [
       "[<matplotlib.lines.Line2D at 0x183626ba198>]"
      ]
     },
     "execution_count": 124,
     "metadata": {},
     "output_type": "execute_result"
    },
    {
     "data": {
      "image/png": "[encoded data removed]",
      "text/plain": [
       "<Figure size 432x288 with 1 Axes>"
      ]
     },
     "metadata": {
      "needs_background": "light"
     },
     "output_type": "display_data"
    }
   ],
   "source": [
    "fpr, tpr, thres = roc_curve(y_test, grid_RF.predict_proba(X_test)[:,1])\n",
    "print('roc_auc_score: ',roc_auc_score(y_test, grid_RF.predict_proba(X_test)[:,1]))\n",
    "plt.plot( fpr, tpr )"
   ]
  },
  {
   "cell_type": "markdown",
   "metadata": {},
   "source": [
    "К - ближайших соседей"
   ]
  },
  {
   "cell_type": "code",
   "execution_count": 125,
   "metadata": {
    "ExecuteTime": {
     "end_time": "2020-07-11T21:08:20.681633Z",
     "start_time": "2020-07-11T21:06:16.175235Z"
    }
   },
   "outputs": [],
   "source": [
    "from sklearn.neighbors import KNeighborsClassifier\n",
    "\n",
    "k_range = range(1,31)\n",
    "weights_options=['uniform','distance']\n",
    "params = {'n_neighbors':k_range, 'weights':weights_options}\n",
    "\n",
    "cv = StratifiedShuffleSplit(n_splits=10, test_size=.30, random_state=15)\n",
    "\n",
    "grid_KN = GridSearchCV(KNeighborsClassifier(), params,cv=cv,verbose = False, n_jobs=-1)\n",
    "\n",
    "grid_KN = grid_KN.fit(X_train,y_train).best_estimator_"
   ]
  },
  {
   "cell_type": "code",
   "execution_count": 126,
   "metadata": {
    "ExecuteTime": {
     "end_time": "2020-07-11T21:08:59.541593Z",
     "start_time": "2020-07-11T21:08:59.536593Z"
    }
   },
   "outputs": [
    {
     "data": {
      "text/plain": [
       "KNeighborsClassifier(algorithm='auto', leaf_size=30, metric='minkowski',\n",
       "                     metric_params=None, n_jobs=None, n_neighbors=20, p=2,\n",
       "                     weights='uniform')"
      ]
     },
     "execution_count": 126,
     "metadata": {},
     "output_type": "execute_result"
    }
   ],
   "source": [
    "grid_KN"
   ]
  },
  {
   "cell_type": "code",
   "execution_count": 129,
   "metadata": {
    "ExecuteTime": {
     "end_time": "2020-07-11T21:09:41.241667Z",
     "start_time": "2020-07-11T21:09:36.242234Z"
    }
   },
   "outputs": [
    {
     "name": "stdout",
     "output_type": "stream",
     "text": [
      "accuracy: 0.8142359926294956\n",
      "precision: 0.6468597216998871\n",
      "recall: 0.49100770767913215\n",
      "f: 0.558260305095748\n"
     ]
    }
   ],
   "source": [
    "print('accuracy:',accuracy_score(y_test, grid_KN.predict(X_test)))\n",
    "print('precision:',precision_score(y_test,grid_KN.predict(X_test)))\n",
    "print('recall:',recall_score(y_test,grid_KN.predict(X_test)))\n",
    "print('f:',f1_score(y_test,grid_KN.predict(X_test)))"
   ]
  },
  {
   "cell_type": "code",
   "execution_count": 130,
   "metadata": {
    "ExecuteTime": {
     "end_time": "2020-07-11T21:09:47.939168Z",
     "start_time": "2020-07-11T21:09:45.962627Z"
    }
   },
   "outputs": [
    {
     "name": "stdout",
     "output_type": "stream",
     "text": [
      "roc_auc_score:  0.855970423813541\n"
     ]
    },
    {
     "data": {
      "text/plain": [
       "[<matplotlib.lines.Line2D at 0x1836270ac18>]"
      ]
     },
     "execution_count": 130,
     "metadata": {},
     "output_type": "execute_result"
    },
    {
     "data": {
      "image/png": "[encoded data removed]",
      "text/plain": [
       "<Figure size 432x288 with 1 Axes>"
      ]
     },
     "metadata": {
      "needs_background": "light"
     },
     "output_type": "display_data"
    }
   ],
   "source": [
    "fpr, tpr, thres = roc_curve(y_test, grid_KN.predict_proba(X_test)[:,1])\n",
    "print('roc_auc_score: ',roc_auc_score(y_test, grid_KN.predict_proba(X_test)[:,1]))\n",
    "plt.plot( fpr, tpr )"
   ]
  }
 ],
 "metadata": {
  "kernelspec": {
   "display_name": "Python 3",
   "language": "python",
   "name": "python3"
  },
  "language_info": {
   "codemirror_mode": {
    "name": "ipython",
    "version": 3
   },
   "file_extension": ".py",
   "mimetype": "text/x-python",
   "name": "python",
   "nbconvert_exporter": "python",
   "pygments_lexer": "ipython3",
   "version": "3.7.1"
  }
 },
 "nbformat": 4,
 "nbformat_minor": 4
}
