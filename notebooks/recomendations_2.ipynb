{
 "cells": [
  {
   "cell_type": "code",
   "execution_count": 1,
   "metadata": {
    "ExecuteTime": {
     "end_time": "2020-07-24T14:28:01.219993Z",
     "start_time": "2020-07-24T14:28:00.643860Z"
    }
   },
   "outputs": [],
   "source": [
    "from surprise import KNNWithMeans, KNNBasic\n",
    "from surprise import Dataset\n",
    "from surprise import accuracy\n",
    "from surprise import Reader\n",
    "from surprise.model_selection import train_test_split\n",
    "\n",
    "import pandas as pd"
   ]
  },
  {
   "cell_type": "markdown",
   "metadata": {},
   "source": [
    "## Задача - получить rmse на отложенной выборке ниже 0.87"
   ]
  },
  {
   "cell_type": "markdown",
   "metadata": {},
   "source": [
    "Так как при попытке загрузки всех данных моей оперативной памяти не хватило, пришлось схитрить, поместив обработку данных в функцию для экономии памяти, а также взяв для анализа не весь датасет из 27 миллионнов сток, а всего лишь 10 миллионов (что уже достаточно для  нужного результата)"
   ]
  },
  {
   "cell_type": "code",
   "execution_count": 2,
   "metadata": {
    "ExecuteTime": {
     "end_time": "2020-07-24T14:28:01.228995Z",
     "start_time": "2020-07-24T14:28:01.220993Z"
    }
   },
   "outputs": [],
   "source": [
    "def get_data():\n",
    "    movies = pd.read_csv('D:\\GitRepo\\Нетология\\Рекомендательные системы\\ml-latest\\ml-latest/movies.csv')\n",
    "    ratings = pd.read_csv('D:\\GitRepo\\Нетология\\Рекомендательные системы\\ml-latest\\ml-latest/ratings.csv')\n",
    "    \n",
    "    movies_with_ratings = movies.join(ratings.set_index('movieId'), on='movieId').reset_index(drop=True)\n",
    "    movies_with_ratings.dropna(inplace=True)\n",
    "    \n",
    "    print('shape', movies_with_ratings.shape)\n",
    "    \n",
    "    dataset = pd.DataFrame({\n",
    "        'uid': movies_with_ratings.userId,\n",
    "        'iid': movies_with_ratings.title,\n",
    "        'rating': movies_with_ratings.rating\n",
    "    })\n",
    "    \n",
    "    print('users:', len(dataset.uid.unique()))\n",
    "    print('items:',len(dataset.iid.unique()))\n",
    "    \n",
    "    r_min = ratings.rating.min()\n",
    "    r_max = ratings.rating.max()\n",
    "    \n",
    "    reader = Reader(rating_scale=(r_min, r_max))\n",
    "    data = Dataset.load_from_df(dataset.head(10000000), reader)\n",
    "    \n",
    "    trainset, testset = train_test_split(data, test_size=.15)\n",
    "    \n",
    "    return trainset, testset"
   ]
  },
  {
   "cell_type": "code",
   "execution_count": 3,
   "metadata": {
    "ExecuteTime": {
     "end_time": "2020-07-24T14:29:01.160365Z",
     "start_time": "2020-07-24T14:28:01.230996Z"
    }
   },
   "outputs": [
    {
     "name": "stdout",
     "output_type": "stream",
     "text": [
      "shape (27753444, 6)\n",
      "users: 283228\n",
      "items: 53817\n"
     ]
    }
   ],
   "source": [
    "trainset, testset = get_data()"
   ]
  },
  {
   "cell_type": "code",
   "execution_count": 4,
   "metadata": {
    "ExecuteTime": {
     "end_time": "2020-07-24T14:31:40.351404Z",
     "start_time": "2020-07-24T14:29:01.161365Z"
    }
   },
   "outputs": [
    {
     "name": "stdout",
     "output_type": "stream",
     "text": [
      "Estimating biases using als...\n",
      "Computing the pearson_baseline similarity matrix...\n",
      "Done computing similarity matrix.\n"
     ]
    },
    {
     "data": {
      "text/plain": [
       "<surprise.prediction_algorithms.knns.KNNWithMeans at 0x2a3f3f650f0>"
      ]
     },
     "execution_count": 4,
     "metadata": {},
     "output_type": "execute_result"
    }
   ],
   "source": [
    "algo = KNNWithMeans(k=50, sim_options={'name': 'pearson_baseline', 'user_based': False})\n",
    "algo.fit(trainset)"
   ]
  },
  {
   "cell_type": "code",
   "execution_count": 5,
   "metadata": {
    "ExecuteTime": {
     "end_time": "2020-07-24T14:36:14.206205Z",
     "start_time": "2020-07-24T14:31:40.352405Z"
    }
   },
   "outputs": [],
   "source": [
    "test_pred = algo.test(testset)"
   ]
  },
  {
   "cell_type": "code",
   "execution_count": 6,
   "metadata": {
    "ExecuteTime": {
     "end_time": "2020-07-24T14:36:15.629430Z",
     "start_time": "2020-07-24T14:36:14.207215Z"
    }
   },
   "outputs": [
    {
     "name": "stdout",
     "output_type": "stream",
     "text": [
      "RMSE: 0.8130\n"
     ]
    },
    {
     "data": {
      "text/plain": [
       "0.8129532692412382"
      ]
     },
     "execution_count": 6,
     "metadata": {},
     "output_type": "execute_result"
    }
   ],
   "source": [
    "accuracy.rmse(test_pred, verbose=True)"
   ]
  },
  {
   "cell_type": "markdown",
   "metadata": {},
   "source": [
    "В итоге оценка RMSE модели (0.813) получилась более чем подходящая и существенно меньше, чем 0.87, что требуется для зачета."
   ]
  },
  {
   "cell_type": "code",
   "execution_count": null,
   "metadata": {},
   "outputs": [],
   "source": []
  }
 ],
 "metadata": {
  "kernelspec": {
   "display_name": "Python 3",
   "language": "python",
   "name": "python3"
  },
  "language_info": {
   "codemirror_mode": {
    "name": "ipython",
    "version": 3
   },
   "file_extension": ".py",
   "mimetype": "text/x-python",
   "name": "python",
   "nbconvert_exporter": "python",
   "pygments_lexer": "ipython3",
   "version": "3.7.1"
  }
 },
 "nbformat": 4,
 "nbformat_minor": 4
}
