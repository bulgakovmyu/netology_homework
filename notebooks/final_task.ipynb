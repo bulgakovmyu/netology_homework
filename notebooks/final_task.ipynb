{
 "cells": [
  {
   "cell_type": "markdown",
   "metadata": {},
   "source": [
    "# Финальное ДЗ модуля \"Построение модели\""
   ]
  },
  {
   "cell_type": "markdown",
   "metadata": {},
   "source": [
    "#### Задание\n",
    "Мы владеем сетью магазинов, в которых продаются различные товары. Наши сотрудники собрали датасет из 8523 продаж товаров в различных магазинах нашей сети. Наша задача построить модель, предсказывающую продажи каждого продукта в конкретном магазине. Используя эту модель, попробовать выявить факторы, больше всего влияющие на увеличение продаж."
   ]
  },
  {
   "cell_type": "markdown",
   "metadata": {
    "ExecuteTime": {
     "end_time": "2020-07-15T09:34:59.117414Z",
     "start_time": "2020-07-15T09:34:59.114413Z"
    }
   },
   "source": [
    "Импортируем библиотеки"
   ]
  },
  {
   "cell_type": "code",
   "execution_count": 625,
   "metadata": {
    "ExecuteTime": {
     "end_time": "2020-07-16T09:42:55.869717Z",
     "start_time": "2020-07-16T09:42:55.864717Z"
    }
   },
   "outputs": [],
   "source": [
    "import pandas as pd\n",
    "import numpy as np\n",
    "\n",
    "import sklearn\n",
    "from sklearn.preprocessing import LabelEncoder, OneHotEncoder\n",
    "from sklearn.preprocessing import StandardScaler\n",
    "\n",
    "import seaborn as sbs\n",
    "import matplotlib.pyplot as plt\n",
    "\n",
    "from sklearn.linear_model import Ridge, LinearRegression\n",
    "from sklearn.neighbors import KNeighborsRegressor\n",
    "from sklearn.ensemble import RandomForestRegressor\n",
    "from sklearn.ensemble import StackingRegressor\n",
    "from sklearn.tree import DecisionTreeRegressor\n",
    "from sklearn.svm import SVR\n",
    "\n",
    "from sklearn.model_selection import StratifiedShuffleSplit\n",
    "from sklearn.model_selection import StratifiedKFold\n",
    "from sklearn.model_selection import RandomizedSearchCV\n",
    "\n",
    "from sklearn.metrics import mean_absolute_error, mean_squared_error\n",
    "\n",
    "from sklearn.model_selection import train_test_split"
   ]
  },
  {
   "cell_type": "markdown",
   "metadata": {},
   "source": [
    "### Загружаем данные"
   ]
  },
  {
   "cell_type": "code",
   "execution_count": 626,
   "metadata": {
    "ExecuteTime": {
     "end_time": "2020-07-16T09:42:56.466205Z",
     "start_time": "2020-07-16T09:42:56.425195Z"
    }
   },
   "outputs": [
    {
     "name": "stdout",
     "output_type": "stream",
     "text": [
      "(8523, 12)\n"
     ]
    },
    {
     "data": {
      "text/html": [
       "<div>\n",
       "<style scoped>\n",
       "    .dataframe tbody tr th:only-of-type {\n",
       "        vertical-align: middle;\n",
       "    }\n",
       "\n",
       "    .dataframe tbody tr th {\n",
       "        vertical-align: top;\n",
       "    }\n",
       "\n",
       "    .dataframe thead th {\n",
       "        text-align: right;\n",
       "    }\n",
       "</style>\n",
       "<table border=\"1\" class=\"dataframe\">\n",
       "  <thead>\n",
       "    <tr style=\"text-align: right;\">\n",
       "      <th></th>\n",
       "      <th>Item_Identifier</th>\n",
       "      <th>Item_Weight</th>\n",
       "      <th>Item_Fat_Content</th>\n",
       "      <th>Item_Visibility</th>\n",
       "      <th>Item_Type</th>\n",
       "      <th>Item_MRP</th>\n",
       "      <th>Outlet_Identifier</th>\n",
       "      <th>Outlet_Establishment_Year</th>\n",
       "      <th>Outlet_Size</th>\n",
       "      <th>Outlet_Location_Type</th>\n",
       "      <th>Outlet_Type</th>\n",
       "      <th>Item_Outlet_Sales</th>\n",
       "    </tr>\n",
       "  </thead>\n",
       "  <tbody>\n",
       "    <tr>\n",
       "      <th>0</th>\n",
       "      <td>FDA15</td>\n",
       "      <td>9.30</td>\n",
       "      <td>Low Fat</td>\n",
       "      <td>0.016047</td>\n",
       "      <td>Dairy</td>\n",
       "      <td>249.8092</td>\n",
       "      <td>OUT049</td>\n",
       "      <td>1999</td>\n",
       "      <td>Medium</td>\n",
       "      <td>Tier 1</td>\n",
       "      <td>Supermarket Type1</td>\n",
       "      <td>3735.1380</td>\n",
       "    </tr>\n",
       "    <tr>\n",
       "      <th>1</th>\n",
       "      <td>DRC01</td>\n",
       "      <td>5.92</td>\n",
       "      <td>Regular</td>\n",
       "      <td>0.019278</td>\n",
       "      <td>Soft Drinks</td>\n",
       "      <td>48.2692</td>\n",
       "      <td>OUT018</td>\n",
       "      <td>2009</td>\n",
       "      <td>Medium</td>\n",
       "      <td>Tier 3</td>\n",
       "      <td>Supermarket Type2</td>\n",
       "      <td>443.4228</td>\n",
       "    </tr>\n",
       "    <tr>\n",
       "      <th>2</th>\n",
       "      <td>FDN15</td>\n",
       "      <td>17.50</td>\n",
       "      <td>Low Fat</td>\n",
       "      <td>0.016760</td>\n",
       "      <td>Meat</td>\n",
       "      <td>141.6180</td>\n",
       "      <td>OUT049</td>\n",
       "      <td>1999</td>\n",
       "      <td>Medium</td>\n",
       "      <td>Tier 1</td>\n",
       "      <td>Supermarket Type1</td>\n",
       "      <td>2097.2700</td>\n",
       "    </tr>\n",
       "    <tr>\n",
       "      <th>3</th>\n",
       "      <td>FDX07</td>\n",
       "      <td>19.20</td>\n",
       "      <td>Regular</td>\n",
       "      <td>0.000000</td>\n",
       "      <td>Fruits and Vegetables</td>\n",
       "      <td>182.0950</td>\n",
       "      <td>OUT010</td>\n",
       "      <td>1998</td>\n",
       "      <td>NaN</td>\n",
       "      <td>Tier 3</td>\n",
       "      <td>Grocery Store</td>\n",
       "      <td>732.3800</td>\n",
       "    </tr>\n",
       "    <tr>\n",
       "      <th>4</th>\n",
       "      <td>NCD19</td>\n",
       "      <td>8.93</td>\n",
       "      <td>Low Fat</td>\n",
       "      <td>0.000000</td>\n",
       "      <td>Household</td>\n",
       "      <td>53.8614</td>\n",
       "      <td>OUT013</td>\n",
       "      <td>1987</td>\n",
       "      <td>High</td>\n",
       "      <td>Tier 3</td>\n",
       "      <td>Supermarket Type1</td>\n",
       "      <td>994.7052</td>\n",
       "    </tr>\n",
       "  </tbody>\n",
       "</table>\n",
       "</div>"
      ],
      "text/plain": [
       "  Item_Identifier  Item_Weight Item_Fat_Content  Item_Visibility  \\\n",
       "0           FDA15         9.30          Low Fat         0.016047   \n",
       "1           DRC01         5.92          Regular         0.019278   \n",
       "2           FDN15        17.50          Low Fat         0.016760   \n",
       "3           FDX07        19.20          Regular         0.000000   \n",
       "4           NCD19         8.93          Low Fat         0.000000   \n",
       "\n",
       "               Item_Type  Item_MRP Outlet_Identifier  \\\n",
       "0                  Dairy  249.8092            OUT049   \n",
       "1            Soft Drinks   48.2692            OUT018   \n",
       "2                   Meat  141.6180            OUT049   \n",
       "3  Fruits and Vegetables  182.0950            OUT010   \n",
       "4              Household   53.8614            OUT013   \n",
       "\n",
       "   Outlet_Establishment_Year Outlet_Size Outlet_Location_Type  \\\n",
       "0                       1999      Medium               Tier 1   \n",
       "1                       2009      Medium               Tier 3   \n",
       "2                       1999      Medium               Tier 1   \n",
       "3                       1998         NaN               Tier 3   \n",
       "4                       1987        High               Tier 3   \n",
       "\n",
       "         Outlet_Type  Item_Outlet_Sales  \n",
       "0  Supermarket Type1          3735.1380  \n",
       "1  Supermarket Type2           443.4228  \n",
       "2  Supermarket Type1          2097.2700  \n",
       "3      Grocery Store           732.3800  \n",
       "4  Supermarket Type1           994.7052  "
      ]
     },
     "execution_count": 626,
     "metadata": {},
     "output_type": "execute_result"
    }
   ],
   "source": [
    "df = pd.read_csv('..//data//data_final.csv')\n",
    "print(df.shape)\n",
    "df.head()"
   ]
  },
  {
   "cell_type": "markdown",
   "metadata": {},
   "source": [
    "## 1. Первичный анализ и предобработка данных"
   ]
  },
  {
   "cell_type": "markdown",
   "metadata": {},
   "source": [
    "### 1.1 Посмотрим сверху на данные"
   ]
  },
  {
   "cell_type": "code",
   "execution_count": 627,
   "metadata": {
    "ExecuteTime": {
     "end_time": "2020-07-16T09:42:57.339257Z",
     "start_time": "2020-07-16T09:42:57.328254Z"
    }
   },
   "outputs": [
    {
     "name": "stdout",
     "output_type": "stream",
     "text": [
      "<class 'pandas.core.frame.DataFrame'>\n",
      "RangeIndex: 8523 entries, 0 to 8522\n",
      "Data columns (total 12 columns):\n",
      " #   Column                     Non-Null Count  Dtype  \n",
      "---  ------                     --------------  -----  \n",
      " 0   Item_Identifier            8523 non-null   object \n",
      " 1   Item_Weight                7060 non-null   float64\n",
      " 2   Item_Fat_Content           8523 non-null   object \n",
      " 3   Item_Visibility            8523 non-null   float64\n",
      " 4   Item_Type                  8523 non-null   object \n",
      " 5   Item_MRP                   8523 non-null   float64\n",
      " 6   Outlet_Identifier          8523 non-null   object \n",
      " 7   Outlet_Establishment_Year  8523 non-null   int64  \n",
      " 8   Outlet_Size                6113 non-null   object \n",
      " 9   Outlet_Location_Type       8523 non-null   object \n",
      " 10  Outlet_Type                8523 non-null   object \n",
      " 11  Item_Outlet_Sales          8523 non-null   float64\n",
      "dtypes: float64(4), int64(1), object(7)\n",
      "memory usage: 799.2+ KB\n"
     ]
    }
   ],
   "source": [
    "df.info()"
   ]
  },
  {
   "cell_type": "code",
   "execution_count": 628,
   "metadata": {
    "ExecuteTime": {
     "end_time": "2020-07-16T09:42:57.749053Z",
     "start_time": "2020-07-16T09:42:57.745052Z"
    }
   },
   "outputs": [
    {
     "data": {
      "text/plain": [
       "Item_Identifier               object\n",
       "Item_Weight                  float64\n",
       "Item_Fat_Content              object\n",
       "Item_Visibility              float64\n",
       "Item_Type                     object\n",
       "Item_MRP                     float64\n",
       "Outlet_Identifier             object\n",
       "Outlet_Establishment_Year      int64\n",
       "Outlet_Size                   object\n",
       "Outlet_Location_Type          object\n",
       "Outlet_Type                   object\n",
       "Item_Outlet_Sales            float64\n",
       "dtype: object"
      ]
     },
     "execution_count": 628,
     "metadata": {},
     "output_type": "execute_result"
    }
   ],
   "source": [
    "df.dtypes"
   ]
  },
  {
   "cell_type": "markdown",
   "metadata": {},
   "source": [
    "Есть  пустые значения, есть категориальные и числовые признаки"
   ]
  },
  {
   "cell_type": "markdown",
   "metadata": {},
   "source": [
    "### 1.2 Анализируем распределения значений в признаках и распределяем фичи на группы"
   ]
  },
  {
   "cell_type": "markdown",
   "metadata": {},
   "source": [
    "Просмотрим все признаки и распределим их на группы по типу признака:"
   ]
  },
  {
   "cell_type": "code",
   "execution_count": 629,
   "metadata": {
    "ExecuteTime": {
     "end_time": "2020-07-16T09:43:00.993619Z",
     "start_time": "2020-07-16T09:43:00.976615Z"
    }
   },
   "outputs": [
    {
     "name": "stdout",
     "output_type": "stream",
     "text": [
      "Number of Item_Identifier is 1559 , Data type is object\n",
      "Number of Item_Weight is 416 , Data type is float64\n",
      "Number of Item_Fat_Content is 5 , Data type is object\n",
      "Number of Item_Visibility is 7880 , Data type is float64\n",
      "Number of Item_Type is 16 , Data type is object\n",
      "Number of Item_MRP is 5938 , Data type is float64\n",
      "Number of Outlet_Identifier is 10 , Data type is object\n",
      "Number of Outlet_Establishment_Year is 9 , Data type is int64\n",
      "Number of Outlet_Size is 4 , Data type is object\n",
      "Number of Outlet_Location_Type is 3 , Data type is object\n",
      "Number of Outlet_Type is 4 , Data type is object\n",
      "Number of Item_Outlet_Sales is 3493 , Data type is float64\n"
     ]
    }
   ],
   "source": [
    "categorical_for_one_hot = []\n",
    "categorical_rest = []\n",
    "numerical = []\n",
    "target = []\n",
    "for ftr in df.columns:\n",
    "    print('Number of', ftr, 'is',df[ftr].unique().shape[0], ', Data type is', df[ftr].dtype)\n",
    "    if (df[ftr].dtype=='object'):\n",
    "        if (df[ftr].unique().shape[0] <= 50):\n",
    "            categorical_for_one_hot.append(ftr)\n",
    "        else: \n",
    "            categorical_rest.append(ftr)\n",
    "    \n",
    "    elif (df[ftr].dtype in ['int64', 'float64']) & (ftr != 'Item_Outlet_Sales'):\n",
    "        numerical.append(ftr)\n",
    "    else: target.append(ftr)\n",
    "        \n",
    "        "
   ]
  },
  {
   "cell_type": "code",
   "execution_count": 630,
   "metadata": {
    "ExecuteTime": {
     "end_time": "2020-07-16T09:43:02.579900Z",
     "start_time": "2020-07-16T09:43:02.575899Z"
    }
   },
   "outputs": [
    {
     "name": "stdout",
     "output_type": "stream",
     "text": [
      "For one-hot: 6 ['Item_Fat_Content', 'Item_Type', 'Outlet_Identifier', 'Outlet_Size', 'Outlet_Location_Type', 'Outlet_Type']\n",
      "rest of categorical: 1 ['Item_Identifier']\n",
      "Numerical: 4 ['Item_Weight', 'Item_Visibility', 'Item_MRP', 'Outlet_Establishment_Year']\n",
      "Target: 1 ['Item_Outlet_Sales']\n"
     ]
    }
   ],
   "source": [
    "print('For one-hot:',len(categorical_for_one_hot), categorical_for_one_hot)\n",
    "print('rest of categorical:', len(categorical_rest), categorical_rest)\n",
    "print('Numerical:',     len(numerical), numerical)\n",
    "print('Target:',     len(target), target)"
   ]
  },
  {
   "cell_type": "markdown",
   "metadata": {},
   "source": [
    "Таким образом мы распределили признаки на категориальные и числовые и наметили какие как скорее всего нужно преобразовывать."
   ]
  },
  {
   "cell_type": "markdown",
   "metadata": {},
   "source": [
    "### 1.3 Посмотрим на распределение числовых признаков"
   ]
  },
  {
   "cell_type": "code",
   "execution_count": 346,
   "metadata": {
    "ExecuteTime": {
     "end_time": "2020-07-15T14:32:17.375028Z",
     "start_time": "2020-07-15T14:32:17.353023Z"
    }
   },
   "outputs": [
    {
     "data": {
      "text/html": [
       "<div>\n",
       "<style scoped>\n",
       "    .dataframe tbody tr th:only-of-type {\n",
       "        vertical-align: middle;\n",
       "    }\n",
       "\n",
       "    .dataframe tbody tr th {\n",
       "        vertical-align: top;\n",
       "    }\n",
       "\n",
       "    .dataframe thead th {\n",
       "        text-align: right;\n",
       "    }\n",
       "</style>\n",
       "<table border=\"1\" class=\"dataframe\">\n",
       "  <thead>\n",
       "    <tr style=\"text-align: right;\">\n",
       "      <th></th>\n",
       "      <th>Item_Weight</th>\n",
       "      <th>Item_Visibility</th>\n",
       "      <th>Item_MRP</th>\n",
       "      <th>Outlet_Establishment_Year</th>\n",
       "    </tr>\n",
       "  </thead>\n",
       "  <tbody>\n",
       "    <tr>\n",
       "      <th>count</th>\n",
       "      <td>7060.000000</td>\n",
       "      <td>8523.000000</td>\n",
       "      <td>8523.000000</td>\n",
       "      <td>8523.000000</td>\n",
       "    </tr>\n",
       "    <tr>\n",
       "      <th>mean</th>\n",
       "      <td>12.857645</td>\n",
       "      <td>0.066132</td>\n",
       "      <td>140.992782</td>\n",
       "      <td>1997.831867</td>\n",
       "    </tr>\n",
       "    <tr>\n",
       "      <th>std</th>\n",
       "      <td>4.643456</td>\n",
       "      <td>0.051598</td>\n",
       "      <td>62.275067</td>\n",
       "      <td>8.371760</td>\n",
       "    </tr>\n",
       "    <tr>\n",
       "      <th>min</th>\n",
       "      <td>4.555000</td>\n",
       "      <td>0.000000</td>\n",
       "      <td>31.290000</td>\n",
       "      <td>1985.000000</td>\n",
       "    </tr>\n",
       "    <tr>\n",
       "      <th>25%</th>\n",
       "      <td>8.773750</td>\n",
       "      <td>0.026989</td>\n",
       "      <td>93.826500</td>\n",
       "      <td>1987.000000</td>\n",
       "    </tr>\n",
       "    <tr>\n",
       "      <th>50%</th>\n",
       "      <td>12.600000</td>\n",
       "      <td>0.053931</td>\n",
       "      <td>143.012800</td>\n",
       "      <td>1999.000000</td>\n",
       "    </tr>\n",
       "    <tr>\n",
       "      <th>75%</th>\n",
       "      <td>16.850000</td>\n",
       "      <td>0.094585</td>\n",
       "      <td>185.643700</td>\n",
       "      <td>2004.000000</td>\n",
       "    </tr>\n",
       "    <tr>\n",
       "      <th>max</th>\n",
       "      <td>21.350000</td>\n",
       "      <td>0.328391</td>\n",
       "      <td>266.888400</td>\n",
       "      <td>2009.000000</td>\n",
       "    </tr>\n",
       "  </tbody>\n",
       "</table>\n",
       "</div>"
      ],
      "text/plain": [
       "       Item_Weight  Item_Visibility     Item_MRP  Outlet_Establishment_Year\n",
       "count  7060.000000      8523.000000  8523.000000                8523.000000\n",
       "mean     12.857645         0.066132   140.992782                1997.831867\n",
       "std       4.643456         0.051598    62.275067                   8.371760\n",
       "min       4.555000         0.000000    31.290000                1985.000000\n",
       "25%       8.773750         0.026989    93.826500                1987.000000\n",
       "50%      12.600000         0.053931   143.012800                1999.000000\n",
       "75%      16.850000         0.094585   185.643700                2004.000000\n",
       "max      21.350000         0.328391   266.888400                2009.000000"
      ]
     },
     "execution_count": 346,
     "metadata": {},
     "output_type": "execute_result"
    }
   ],
   "source": [
    "df[numerical].describe()"
   ]
  },
  {
   "cell_type": "markdown",
   "metadata": {},
   "source": [
    "Подозрительны нули в Item_Visibility. Рассмотрим поподробнее"
   ]
  },
  {
   "cell_type": "code",
   "execution_count": 347,
   "metadata": {
    "ExecuteTime": {
     "end_time": "2020-07-15T14:32:17.459066Z",
     "start_time": "2020-07-15T14:32:17.453065Z"
    }
   },
   "outputs": [
    {
     "data": {
      "text/plain": [
       "(526, 12)"
      ]
     },
     "execution_count": 347,
     "metadata": {},
     "output_type": "execute_result"
    }
   ],
   "source": [
    "df[df.Item_Visibility==0].shape"
   ]
  },
  {
   "cell_type": "code",
   "execution_count": 348,
   "metadata": {
    "ExecuteTime": {
     "end_time": "2020-07-15T14:32:17.647883Z",
     "start_time": "2020-07-15T14:32:17.516853Z"
    }
   },
   "outputs": [
    {
     "data": {
      "text/plain": [
       "<matplotlib.axes._subplots.AxesSubplot at 0x20d8f4ad1d0>"
      ]
     },
     "execution_count": 348,
     "metadata": {},
     "output_type": "execute_result"
    },
    {
     "data": {
      "image/png": "[encoded data removed]",
      "text/plain": [
       "<Figure size 432x288 with 1 Axes>"
      ]
     },
     "metadata": {
      "needs_background": "light"
     },
     "output_type": "display_data"
    }
   ],
   "source": [
    "df.Item_Visibility.hist()"
   ]
  },
  {
   "cell_type": "markdown",
   "metadata": {},
   "source": [
    "Похоже нулевые значения в проценте витрины - это округление очень маленького числа, так как относительно маленькие числа преобладают в распределении. Поэтому проблемы нет в этих нулях."
   ]
  },
  {
   "cell_type": "markdown",
   "metadata": {},
   "source": [
    "### 1.4 Анализируем и устраняем пустые значения"
   ]
  },
  {
   "cell_type": "code",
   "execution_count": 349,
   "metadata": {
    "ExecuteTime": {
     "end_time": "2020-07-15T14:32:17.657885Z",
     "start_time": "2020-07-15T14:32:17.649884Z"
    }
   },
   "outputs": [
    {
     "data": {
      "text/plain": [
       "Item_Identifier                 0\n",
       "Item_Weight                  1463\n",
       "Item_Fat_Content                0\n",
       "Item_Visibility                 0\n",
       "Item_Type                       0\n",
       "Item_MRP                        0\n",
       "Outlet_Identifier               0\n",
       "Outlet_Establishment_Year       0\n",
       "Outlet_Size                  2410\n",
       "Outlet_Location_Type            0\n",
       "Outlet_Type                     0\n",
       "Item_Outlet_Sales               0\n",
       "dtype: int64"
      ]
     },
     "execution_count": 349,
     "metadata": {},
     "output_type": "execute_result"
    }
   ],
   "source": [
    "df.isnull().sum()"
   ]
  },
  {
   "cell_type": "markdown",
   "metadata": {},
   "source": [
    "Нулевые значения есть только в признаках Item_Weight и Outlet_Size. Посмотрим на них поподробнее"
   ]
  },
  {
   "cell_type": "code",
   "execution_count": 350,
   "metadata": {
    "ExecuteTime": {
     "end_time": "2020-07-15T14:32:17.840928Z",
     "start_time": "2020-07-15T14:32:17.714898Z"
    }
   },
   "outputs": [
    {
     "data": {
      "text/plain": [
       "<matplotlib.axes._subplots.AxesSubplot at 0x20d8f025668>"
      ]
     },
     "execution_count": 350,
     "metadata": {},
     "output_type": "execute_result"
    },
    {
     "data": {
      "image/png": "[encoded data removed]",
      "text/plain": [
       "<Figure size 432x288 with 1 Axes>"
      ]
     },
     "metadata": {
      "needs_background": "light"
     },
     "output_type": "display_data"
    }
   ],
   "source": [
    "df['Item_Weight'].hist()"
   ]
  },
  {
   "cell_type": "code",
   "execution_count": 351,
   "metadata": {
    "ExecuteTime": {
     "end_time": "2020-07-15T14:32:17.857931Z",
     "start_time": "2020-07-15T14:32:17.841928Z"
    }
   },
   "outputs": [
    {
     "data": {
      "text/html": [
       "<div>\n",
       "<style scoped>\n",
       "    .dataframe tbody tr th:only-of-type {\n",
       "        vertical-align: middle;\n",
       "    }\n",
       "\n",
       "    .dataframe tbody tr th {\n",
       "        vertical-align: top;\n",
       "    }\n",
       "\n",
       "    .dataframe thead th {\n",
       "        text-align: right;\n",
       "    }\n",
       "</style>\n",
       "<table border=\"1\" class=\"dataframe\">\n",
       "  <thead>\n",
       "    <tr style=\"text-align: right;\">\n",
       "      <th></th>\n",
       "      <th>Item_Identifier</th>\n",
       "      <th>Item_Weight</th>\n",
       "      <th>Item_Fat_Content</th>\n",
       "      <th>Item_Visibility</th>\n",
       "      <th>Item_Type</th>\n",
       "      <th>Item_MRP</th>\n",
       "      <th>Outlet_Identifier</th>\n",
       "      <th>Outlet_Establishment_Year</th>\n",
       "      <th>Outlet_Size</th>\n",
       "      <th>Outlet_Location_Type</th>\n",
       "      <th>Outlet_Type</th>\n",
       "      <th>Item_Outlet_Sales</th>\n",
       "    </tr>\n",
       "  </thead>\n",
       "  <tbody>\n",
       "    <tr>\n",
       "      <th>7</th>\n",
       "      <td>FDP10</td>\n",
       "      <td>NaN</td>\n",
       "      <td>Low Fat</td>\n",
       "      <td>0.127470</td>\n",
       "      <td>Snack Foods</td>\n",
       "      <td>107.7622</td>\n",
       "      <td>OUT027</td>\n",
       "      <td>1985</td>\n",
       "      <td>Medium</td>\n",
       "      <td>Tier 3</td>\n",
       "      <td>Supermarket Type3</td>\n",
       "      <td>4022.7636</td>\n",
       "    </tr>\n",
       "    <tr>\n",
       "      <th>18</th>\n",
       "      <td>DRI11</td>\n",
       "      <td>NaN</td>\n",
       "      <td>Low Fat</td>\n",
       "      <td>0.034238</td>\n",
       "      <td>Hard Drinks</td>\n",
       "      <td>113.2834</td>\n",
       "      <td>OUT027</td>\n",
       "      <td>1985</td>\n",
       "      <td>Medium</td>\n",
       "      <td>Tier 3</td>\n",
       "      <td>Supermarket Type3</td>\n",
       "      <td>2303.6680</td>\n",
       "    </tr>\n",
       "    <tr>\n",
       "      <th>21</th>\n",
       "      <td>FDW12</td>\n",
       "      <td>NaN</td>\n",
       "      <td>Regular</td>\n",
       "      <td>0.035400</td>\n",
       "      <td>Baking Goods</td>\n",
       "      <td>144.5444</td>\n",
       "      <td>OUT027</td>\n",
       "      <td>1985</td>\n",
       "      <td>Medium</td>\n",
       "      <td>Tier 3</td>\n",
       "      <td>Supermarket Type3</td>\n",
       "      <td>4064.0432</td>\n",
       "    </tr>\n",
       "    <tr>\n",
       "      <th>23</th>\n",
       "      <td>FDC37</td>\n",
       "      <td>NaN</td>\n",
       "      <td>Low Fat</td>\n",
       "      <td>0.057557</td>\n",
       "      <td>Baking Goods</td>\n",
       "      <td>107.6938</td>\n",
       "      <td>OUT019</td>\n",
       "      <td>1985</td>\n",
       "      <td>Small</td>\n",
       "      <td>Tier 1</td>\n",
       "      <td>Grocery Store</td>\n",
       "      <td>214.3876</td>\n",
       "    </tr>\n",
       "    <tr>\n",
       "      <th>29</th>\n",
       "      <td>FDC14</td>\n",
       "      <td>NaN</td>\n",
       "      <td>Regular</td>\n",
       "      <td>0.072222</td>\n",
       "      <td>Canned</td>\n",
       "      <td>43.6454</td>\n",
       "      <td>OUT019</td>\n",
       "      <td>1985</td>\n",
       "      <td>Small</td>\n",
       "      <td>Tier 1</td>\n",
       "      <td>Grocery Store</td>\n",
       "      <td>125.8362</td>\n",
       "    </tr>\n",
       "  </tbody>\n",
       "</table>\n",
       "</div>"
      ],
      "text/plain": [
       "   Item_Identifier  Item_Weight Item_Fat_Content  Item_Visibility  \\\n",
       "7            FDP10          NaN          Low Fat         0.127470   \n",
       "18           DRI11          NaN          Low Fat         0.034238   \n",
       "21           FDW12          NaN          Regular         0.035400   \n",
       "23           FDC37          NaN          Low Fat         0.057557   \n",
       "29           FDC14          NaN          Regular         0.072222   \n",
       "\n",
       "       Item_Type  Item_MRP Outlet_Identifier  Outlet_Establishment_Year  \\\n",
       "7    Snack Foods  107.7622            OUT027                       1985   \n",
       "18   Hard Drinks  113.2834            OUT027                       1985   \n",
       "21  Baking Goods  144.5444            OUT027                       1985   \n",
       "23  Baking Goods  107.6938            OUT019                       1985   \n",
       "29        Canned   43.6454            OUT019                       1985   \n",
       "\n",
       "   Outlet_Size Outlet_Location_Type        Outlet_Type  Item_Outlet_Sales  \n",
       "7       Medium               Tier 3  Supermarket Type3          4022.7636  \n",
       "18      Medium               Tier 3  Supermarket Type3          2303.6680  \n",
       "21      Medium               Tier 3  Supermarket Type3          4064.0432  \n",
       "23       Small               Tier 1      Grocery Store           214.3876  \n",
       "29       Small               Tier 1      Grocery Store           125.8362  "
      ]
     },
     "execution_count": 351,
     "metadata": {},
     "output_type": "execute_result"
    }
   ],
   "source": [
    "df[df.Item_Weight.isnull()].head()"
   ]
  },
  {
   "cell_type": "code",
   "execution_count": 352,
   "metadata": {
    "ExecuteTime": {
     "end_time": "2020-07-15T14:32:17.869934Z",
     "start_time": "2020-07-15T14:32:17.859931Z"
    }
   },
   "outputs": [
    {
     "name": "stdout",
     "output_type": "stream",
     "text": [
      "empty Weight in Outlets: ['OUT027' 'OUT019']\n",
      "filled Weight in Outlets: ['OUT049' 'OUT018' 'OUT010' 'OUT013' 'OUT045' 'OUT017' 'OUT046' 'OUT035']\n"
     ]
    }
   ],
   "source": [
    "print('empty Weight in Outlets:', df[df.Item_Weight.isnull()].Outlet_Identifier.unique())\n",
    "print('filled Weight in Outlets:', df[df.Item_Weight.notnull()].Outlet_Identifier.unique())"
   ]
  },
  {
   "cell_type": "markdown",
   "metadata": {},
   "source": [
    "Значение массы продукта пропущено только в двух из десяти магазинах, при чем в остальных 8 пропусков нет.\n",
    "Поэтому в этих двух  магазинах заполним значения средними значениями продаж в остальных магазинах:"
   ]
  },
  {
   "cell_type": "code",
   "execution_count": 353,
   "metadata": {
    "ExecuteTime": {
     "end_time": "2020-07-15T14:32:19.680341Z",
     "start_time": "2020-07-15T14:32:17.944950Z"
    }
   },
   "outputs": [
    {
     "name": "stdout",
     "output_type": "stream",
     "text": [
      "(1142,)\n",
      "(1555,)\n",
      "Сможем(1)/Не сможем(0) заполнить средними:\n",
      " 1    1138\n",
      "0       4\n",
      "dtype: int64\n"
     ]
    }
   ],
   "source": [
    "print(df[df.Item_Weight.isnull()].Item_Identifier.unique().shape)\n",
    "print(df[df.Item_Weight.notnull()].Item_Identifier.unique().shape)\n",
    "print('Сможем(1)/Не сможем(0) заполнить средними:\\n',pd.Series([1 if i in df[df.Item_Weight.notnull()].Item_Identifier.unique() else 0 \n",
    "          for i in df[df.Item_Weight.isnull()].Item_Identifier.unique()]).value_counts())"
   ]
  },
  {
   "cell_type": "markdown",
   "metadata": {},
   "source": [
    "Мы можем заполнить средними практически все пропуски кроме четырех. четыре оставшихся выбросим из выборки без потери качества."
   ]
  },
  {
   "cell_type": "code",
   "execution_count": 354,
   "metadata": {
    "ExecuteTime": {
     "end_time": "2020-07-15T14:32:19.699345Z",
     "start_time": "2020-07-15T14:32:19.682351Z"
    }
   },
   "outputs": [],
   "source": [
    "mean_item_weights = (df[df.Outlet_Identifier.isin(['OUT049', 'OUT018', 'OUT010', 'OUT013', \n",
    "                               'OUT045', 'OUT017', 'OUT046', 'OUT035'])]\n",
    "                        .groupby(['Item_Identifier']).mean()['Item_Weight'])\n",
    "to_df = pd.DataFrame({'Item_Identifier':mean_item_weights[mean_item_weights.index.isin(df[df.Item_Weight.isnull()].Item_Identifier.unique())].index,\n",
    "                      \n",
    "                      'Item_Weight_mean':mean_item_weights[mean_item_weights.index.isin(df[df.Item_Weight.isnull()].Item_Identifier.unique())]})\n",
    "to_df.index.name = 'Index'"
   ]
  },
  {
   "cell_type": "code",
   "execution_count": 437,
   "metadata": {
    "ExecuteTime": {
     "end_time": "2020-07-15T15:33:23.930577Z",
     "start_time": "2020-07-15T15:33:23.912574Z"
    }
   },
   "outputs": [],
   "source": [
    "df_new = pd.merge(df, \n",
    "                  to_df,\n",
    "                  left_on='Item_Identifier',\n",
    "                  right_on='Item_Identifier', how='left')\n",
    "df_new.loc[df_new['Item_Weight'].isnull(), 'Item_Weight'] =  df_new.loc[df_new['Item_Weight'].isnull(),'Item_Weight_mean']\n",
    "df_new.drop(columns=['Item_Weight_mean'], inplace=True)"
   ]
  },
  {
   "cell_type": "markdown",
   "metadata": {},
   "source": [
    "После заполнения значений средними проверяем сколько пустых значений осталось. Должно остаться 4."
   ]
  },
  {
   "cell_type": "code",
   "execution_count": 438,
   "metadata": {
    "ExecuteTime": {
     "end_time": "2020-07-15T15:33:24.488505Z",
     "start_time": "2020-07-15T15:33:24.480503Z"
    }
   },
   "outputs": [
    {
     "data": {
      "text/plain": [
       "Item_Identifier                 0\n",
       "Item_Weight                     4\n",
       "Item_Fat_Content                0\n",
       "Item_Visibility                 0\n",
       "Item_Type                       0\n",
       "Item_MRP                        0\n",
       "Outlet_Identifier               0\n",
       "Outlet_Establishment_Year       0\n",
       "Outlet_Size                  2410\n",
       "Outlet_Location_Type            0\n",
       "Outlet_Type                     0\n",
       "Item_Outlet_Sales               0\n",
       "dtype: int64"
      ]
     },
     "execution_count": 438,
     "metadata": {},
     "output_type": "execute_result"
    }
   ],
   "source": [
    "df_new.isnull().sum()"
   ]
  },
  {
   "cell_type": "markdown",
   "metadata": {},
   "source": [
    "4 значения - несущественное количество - можно убрать строки из выборки без ощутимой потери качества, это сделаем чуть позже.\n",
    "Пока перейдем к признаку Outlet_Size"
   ]
  },
  {
   "cell_type": "code",
   "execution_count": 439,
   "metadata": {
    "ExecuteTime": {
     "end_time": "2020-07-15T15:33:24.926018Z",
     "start_time": "2020-07-15T15:33:24.824996Z"
    }
   },
   "outputs": [
    {
     "data": {
      "text/plain": [
       "<matplotlib.axes._subplots.AxesSubplot at 0x20d9552d5c0>"
      ]
     },
     "execution_count": 439,
     "metadata": {},
     "output_type": "execute_result"
    },
    {
     "data": {
      "image/png": "[encoded data removed]",
      "text/plain": [
       "<Figure size 432x288 with 1 Axes>"
      ]
     },
     "metadata": {
      "needs_background": "light"
     },
     "output_type": "display_data"
    }
   ],
   "source": [
    "df['Outlet_Size'].hist()"
   ]
  },
  {
   "cell_type": "code",
   "execution_count": 440,
   "metadata": {
    "ExecuteTime": {
     "end_time": "2020-07-15T15:33:25.009036Z",
     "start_time": "2020-07-15T15:33:25.000033Z"
    }
   },
   "outputs": [
    {
     "name": "stdout",
     "output_type": "stream",
     "text": [
      "empty Outlet_Size: ['OUT010' 'OUT045' 'OUT017']\n",
      "filled Outlet_Size: ['OUT049' 'OUT018' 'OUT013' 'OUT027' 'OUT046' 'OUT035' 'OUT019']\n"
     ]
    }
   ],
   "source": [
    "print('empty Outlet_Size:', df[df.Outlet_Size.isnull()].Outlet_Identifier.unique())\n",
    "print('filled Outlet_Size:', df[df.Outlet_Size.notnull()].Outlet_Identifier.unique())"
   ]
  },
  {
   "cell_type": "markdown",
   "metadata": {
    "ExecuteTime": {
     "end_time": "2020-07-15T13:17:44.584295Z",
     "start_time": "2020-07-15T13:17:44.576886Z"
    }
   },
   "source": [
    "В трех магазинах из 10 неизвестен размер. Можно оценить размер исходя из объема продажи.\n",
    "Для этого посмотрим на савокупные объемы продаж в магазинах:"
   ]
  },
  {
   "cell_type": "code",
   "execution_count": 441,
   "metadata": {
    "ExecuteTime": {
     "end_time": "2020-07-15T15:33:25.367633Z",
     "start_time": "2020-07-15T15:33:25.352630Z"
    }
   },
   "outputs": [
    {
     "data": {
      "text/html": [
       "<div>\n",
       "<style scoped>\n",
       "    .dataframe tbody tr th:only-of-type {\n",
       "        vertical-align: middle;\n",
       "    }\n",
       "\n",
       "    .dataframe tbody tr th {\n",
       "        vertical-align: top;\n",
       "    }\n",
       "\n",
       "    .dataframe thead th {\n",
       "        text-align: right;\n",
       "    }\n",
       "</style>\n",
       "<table border=\"1\" class=\"dataframe\">\n",
       "  <thead>\n",
       "    <tr style=\"text-align: right;\">\n",
       "      <th></th>\n",
       "      <th></th>\n",
       "      <th>Item_Weight</th>\n",
       "    </tr>\n",
       "    <tr>\n",
       "      <th>Outlet_Identifier</th>\n",
       "      <th>Outlet_Size</th>\n",
       "      <th></th>\n",
       "    </tr>\n",
       "  </thead>\n",
       "  <tbody>\n",
       "    <tr>\n",
       "      <th>OUT010</th>\n",
       "      <th>Unknown</th>\n",
       "      <td>7166.800</td>\n",
       "    </tr>\n",
       "    <tr>\n",
       "      <th>OUT013</th>\n",
       "      <th>High</th>\n",
       "      <td>12121.730</td>\n",
       "    </tr>\n",
       "    <tr>\n",
       "      <th>OUT017</th>\n",
       "      <th>Unknown</th>\n",
       "      <td>11877.495</td>\n",
       "    </tr>\n",
       "    <tr>\n",
       "      <th>OUT018</th>\n",
       "      <th>Medium</th>\n",
       "      <td>11946.465</td>\n",
       "    </tr>\n",
       "    <tr>\n",
       "      <th>OUT019</th>\n",
       "      <th>Small</th>\n",
       "      <td>6855.745</td>\n",
       "    </tr>\n",
       "    <tr>\n",
       "      <th>OUT027</th>\n",
       "      <th>Medium</th>\n",
       "      <td>12054.985</td>\n",
       "    </tr>\n",
       "    <tr>\n",
       "      <th>OUT035</th>\n",
       "      <th>Small</th>\n",
       "      <td>11931.295</td>\n",
       "    </tr>\n",
       "    <tr>\n",
       "      <th>OUT045</th>\n",
       "      <th>Unknown</th>\n",
       "      <td>11751.840</td>\n",
       "    </tr>\n",
       "    <tr>\n",
       "      <th>OUT046</th>\n",
       "      <th>Small</th>\n",
       "      <td>11966.125</td>\n",
       "    </tr>\n",
       "    <tr>\n",
       "      <th>OUT049</th>\n",
       "      <th>Medium</th>\n",
       "      <td>12013.225</td>\n",
       "    </tr>\n",
       "  </tbody>\n",
       "</table>\n",
       "</div>"
      ],
      "text/plain": [
       "                               Item_Weight\n",
       "Outlet_Identifier Outlet_Size             \n",
       "OUT010            Unknown         7166.800\n",
       "OUT013            High           12121.730\n",
       "OUT017            Unknown        11877.495\n",
       "OUT018            Medium         11946.465\n",
       "OUT019            Small           6855.745\n",
       "OUT027            Medium         12054.985\n",
       "OUT035            Small          11931.295\n",
       "OUT045            Unknown        11751.840\n",
       "OUT046            Small          11966.125\n",
       "OUT049            Medium         12013.225"
      ]
     },
     "execution_count": 441,
     "metadata": {},
     "output_type": "execute_result"
    }
   ],
   "source": [
    "df_new.Outlet_Size.fillna('Unknown', inplace=True)\n",
    "df_new[['Outlet_Identifier', 'Outlet_Size', 'Item_Weight']].groupby(['Outlet_Identifier', 'Outlet_Size']).sum()"
   ]
  },
  {
   "cell_type": "markdown",
   "metadata": {},
   "source": [
    "Посмотрев на объемы продаж, можно очень примерно оценить какой магазин по размеру и заменить неизвестные значения выбранными:"
   ]
  },
  {
   "cell_type": "code",
   "execution_count": 442,
   "metadata": {
    "ExecuteTime": {
     "end_time": "2020-07-15T15:33:25.722817Z",
     "start_time": "2020-07-15T15:33:25.696810Z"
    }
   },
   "outputs": [
    {
     "data": {
      "text/html": [
       "<div>\n",
       "<style scoped>\n",
       "    .dataframe tbody tr th:only-of-type {\n",
       "        vertical-align: middle;\n",
       "    }\n",
       "\n",
       "    .dataframe tbody tr th {\n",
       "        vertical-align: top;\n",
       "    }\n",
       "\n",
       "    .dataframe thead th {\n",
       "        text-align: right;\n",
       "    }\n",
       "</style>\n",
       "<table border=\"1\" class=\"dataframe\">\n",
       "  <thead>\n",
       "    <tr style=\"text-align: right;\">\n",
       "      <th></th>\n",
       "      <th></th>\n",
       "      <th>Item_Weight</th>\n",
       "    </tr>\n",
       "    <tr>\n",
       "      <th>Outlet_Identifier</th>\n",
       "      <th>Outlet_Size</th>\n",
       "      <th></th>\n",
       "    </tr>\n",
       "  </thead>\n",
       "  <tbody>\n",
       "    <tr>\n",
       "      <th>OUT010</th>\n",
       "      <th>Small</th>\n",
       "      <td>7166.800</td>\n",
       "    </tr>\n",
       "    <tr>\n",
       "      <th>OUT013</th>\n",
       "      <th>High</th>\n",
       "      <td>12121.730</td>\n",
       "    </tr>\n",
       "    <tr>\n",
       "      <th>OUT017</th>\n",
       "      <th>Medium</th>\n",
       "      <td>11877.495</td>\n",
       "    </tr>\n",
       "    <tr>\n",
       "      <th>OUT018</th>\n",
       "      <th>Medium</th>\n",
       "      <td>11946.465</td>\n",
       "    </tr>\n",
       "    <tr>\n",
       "      <th>OUT019</th>\n",
       "      <th>Small</th>\n",
       "      <td>6855.745</td>\n",
       "    </tr>\n",
       "    <tr>\n",
       "      <th>OUT027</th>\n",
       "      <th>Medium</th>\n",
       "      <td>12054.985</td>\n",
       "    </tr>\n",
       "    <tr>\n",
       "      <th>OUT035</th>\n",
       "      <th>Small</th>\n",
       "      <td>11931.295</td>\n",
       "    </tr>\n",
       "    <tr>\n",
       "      <th>OUT045</th>\n",
       "      <th>Medium</th>\n",
       "      <td>11751.840</td>\n",
       "    </tr>\n",
       "    <tr>\n",
       "      <th>OUT046</th>\n",
       "      <th>Small</th>\n",
       "      <td>11966.125</td>\n",
       "    </tr>\n",
       "    <tr>\n",
       "      <th>OUT049</th>\n",
       "      <th>Medium</th>\n",
       "      <td>12013.225</td>\n",
       "    </tr>\n",
       "  </tbody>\n",
       "</table>\n",
       "</div>"
      ],
      "text/plain": [
       "                               Item_Weight\n",
       "Outlet_Identifier Outlet_Size             \n",
       "OUT010            Small           7166.800\n",
       "OUT013            High           12121.730\n",
       "OUT017            Medium         11877.495\n",
       "OUT018            Medium         11946.465\n",
       "OUT019            Small           6855.745\n",
       "OUT027            Medium         12054.985\n",
       "OUT035            Small          11931.295\n",
       "OUT045            Medium         11751.840\n",
       "OUT046            Small          11966.125\n",
       "OUT049            Medium         12013.225"
      ]
     },
     "execution_count": 442,
     "metadata": {},
     "output_type": "execute_result"
    }
   ],
   "source": [
    "fill_sizes = {'OUT010':'Small', 'OUT017':'Medium', 'OUT045':'Medium'}\n",
    "for i in df[df.Outlet_Size.isnull()].Outlet_Identifier.unique():\n",
    "    df_new.loc[(df_new['Outlet_Identifier'] == i) & (df_new['Outlet_Size'] == 'Unknown'), 'Outlet_Size'] = fill_sizes[i]\n",
    "\n",
    "df_new[['Outlet_Identifier', 'Outlet_Size', 'Item_Weight']].groupby(['Outlet_Identifier', 'Outlet_Size']).sum()"
   ]
  },
  {
   "cell_type": "markdown",
   "metadata": {},
   "source": [
    "Теперь удалим оставшиеся 4 строки с пустыми значениями и убедимся, что пустых  больше нет:"
   ]
  },
  {
   "cell_type": "code",
   "execution_count": 443,
   "metadata": {
    "ExecuteTime": {
     "end_time": "2020-07-15T15:33:26.143648Z",
     "start_time": "2020-07-15T15:33:26.128645Z"
    }
   },
   "outputs": [
    {
     "name": "stdout",
     "output_type": "stream",
     "text": [
      "(8519, 12)\n"
     ]
    },
    {
     "data": {
      "text/plain": [
       "Item_Identifier              0\n",
       "Item_Weight                  0\n",
       "Item_Fat_Content             0\n",
       "Item_Visibility              0\n",
       "Item_Type                    0\n",
       "Item_MRP                     0\n",
       "Outlet_Identifier            0\n",
       "Outlet_Establishment_Year    0\n",
       "Outlet_Size                  0\n",
       "Outlet_Location_Type         0\n",
       "Outlet_Type                  0\n",
       "Item_Outlet_Sales            0\n",
       "dtype: int64"
      ]
     },
     "execution_count": 443,
     "metadata": {},
     "output_type": "execute_result"
    }
   ],
   "source": [
    "df_new.dropna(inplace=True)\n",
    "print(df_new.shape)\n",
    "df_new.isnull().sum()"
   ]
  },
  {
   "cell_type": "code",
   "execution_count": 444,
   "metadata": {
    "ExecuteTime": {
     "end_time": "2020-07-15T15:33:26.377666Z",
     "start_time": "2020-07-15T15:33:26.363663Z"
    }
   },
   "outputs": [
    {
     "data": {
      "text/html": [
       "<div>\n",
       "<style scoped>\n",
       "    .dataframe tbody tr th:only-of-type {\n",
       "        vertical-align: middle;\n",
       "    }\n",
       "\n",
       "    .dataframe tbody tr th {\n",
       "        vertical-align: top;\n",
       "    }\n",
       "\n",
       "    .dataframe thead th {\n",
       "        text-align: right;\n",
       "    }\n",
       "</style>\n",
       "<table border=\"1\" class=\"dataframe\">\n",
       "  <thead>\n",
       "    <tr style=\"text-align: right;\">\n",
       "      <th></th>\n",
       "      <th>Item_Identifier</th>\n",
       "      <th>Item_Weight</th>\n",
       "      <th>Item_Fat_Content</th>\n",
       "      <th>Item_Visibility</th>\n",
       "      <th>Item_Type</th>\n",
       "      <th>Item_MRP</th>\n",
       "      <th>Outlet_Identifier</th>\n",
       "      <th>Outlet_Establishment_Year</th>\n",
       "      <th>Outlet_Size</th>\n",
       "      <th>Outlet_Location_Type</th>\n",
       "      <th>Outlet_Type</th>\n",
       "      <th>Item_Outlet_Sales</th>\n",
       "    </tr>\n",
       "  </thead>\n",
       "  <tbody>\n",
       "    <tr>\n",
       "      <th>0</th>\n",
       "      <td>FDA15</td>\n",
       "      <td>9.30</td>\n",
       "      <td>Low Fat</td>\n",
       "      <td>0.016047</td>\n",
       "      <td>Dairy</td>\n",
       "      <td>249.8092</td>\n",
       "      <td>OUT049</td>\n",
       "      <td>1999</td>\n",
       "      <td>Medium</td>\n",
       "      <td>Tier 1</td>\n",
       "      <td>Supermarket Type1</td>\n",
       "      <td>3735.1380</td>\n",
       "    </tr>\n",
       "    <tr>\n",
       "      <th>1</th>\n",
       "      <td>DRC01</td>\n",
       "      <td>5.92</td>\n",
       "      <td>Regular</td>\n",
       "      <td>0.019278</td>\n",
       "      <td>Soft Drinks</td>\n",
       "      <td>48.2692</td>\n",
       "      <td>OUT018</td>\n",
       "      <td>2009</td>\n",
       "      <td>Medium</td>\n",
       "      <td>Tier 3</td>\n",
       "      <td>Supermarket Type2</td>\n",
       "      <td>443.4228</td>\n",
       "    </tr>\n",
       "    <tr>\n",
       "      <th>2</th>\n",
       "      <td>FDN15</td>\n",
       "      <td>17.50</td>\n",
       "      <td>Low Fat</td>\n",
       "      <td>0.016760</td>\n",
       "      <td>Meat</td>\n",
       "      <td>141.6180</td>\n",
       "      <td>OUT049</td>\n",
       "      <td>1999</td>\n",
       "      <td>Medium</td>\n",
       "      <td>Tier 1</td>\n",
       "      <td>Supermarket Type1</td>\n",
       "      <td>2097.2700</td>\n",
       "    </tr>\n",
       "    <tr>\n",
       "      <th>3</th>\n",
       "      <td>FDX07</td>\n",
       "      <td>19.20</td>\n",
       "      <td>Regular</td>\n",
       "      <td>0.000000</td>\n",
       "      <td>Fruits and Vegetables</td>\n",
       "      <td>182.0950</td>\n",
       "      <td>OUT010</td>\n",
       "      <td>1998</td>\n",
       "      <td>Small</td>\n",
       "      <td>Tier 3</td>\n",
       "      <td>Grocery Store</td>\n",
       "      <td>732.3800</td>\n",
       "    </tr>\n",
       "    <tr>\n",
       "      <th>4</th>\n",
       "      <td>NCD19</td>\n",
       "      <td>8.93</td>\n",
       "      <td>Low Fat</td>\n",
       "      <td>0.000000</td>\n",
       "      <td>Household</td>\n",
       "      <td>53.8614</td>\n",
       "      <td>OUT013</td>\n",
       "      <td>1987</td>\n",
       "      <td>High</td>\n",
       "      <td>Tier 3</td>\n",
       "      <td>Supermarket Type1</td>\n",
       "      <td>994.7052</td>\n",
       "    </tr>\n",
       "  </tbody>\n",
       "</table>\n",
       "</div>"
      ],
      "text/plain": [
       "  Item_Identifier  Item_Weight Item_Fat_Content  Item_Visibility  \\\n",
       "0           FDA15         9.30          Low Fat         0.016047   \n",
       "1           DRC01         5.92          Regular         0.019278   \n",
       "2           FDN15        17.50          Low Fat         0.016760   \n",
       "3           FDX07        19.20          Regular         0.000000   \n",
       "4           NCD19         8.93          Low Fat         0.000000   \n",
       "\n",
       "               Item_Type  Item_MRP Outlet_Identifier  \\\n",
       "0                  Dairy  249.8092            OUT049   \n",
       "1            Soft Drinks   48.2692            OUT018   \n",
       "2                   Meat  141.6180            OUT049   \n",
       "3  Fruits and Vegetables  182.0950            OUT010   \n",
       "4              Household   53.8614            OUT013   \n",
       "\n",
       "   Outlet_Establishment_Year Outlet_Size Outlet_Location_Type  \\\n",
       "0                       1999      Medium               Tier 1   \n",
       "1                       2009      Medium               Tier 3   \n",
       "2                       1999      Medium               Tier 1   \n",
       "3                       1998       Small               Tier 3   \n",
       "4                       1987        High               Tier 3   \n",
       "\n",
       "         Outlet_Type  Item_Outlet_Sales  \n",
       "0  Supermarket Type1          3735.1380  \n",
       "1  Supermarket Type2           443.4228  \n",
       "2  Supermarket Type1          2097.2700  \n",
       "3      Grocery Store           732.3800  \n",
       "4  Supermarket Type1           994.7052  "
      ]
     },
     "execution_count": 444,
     "metadata": {},
     "output_type": "execute_result"
    }
   ],
   "source": [
    "df_new.head(5)"
   ]
  },
  {
   "cell_type": "markdown",
   "metadata": {},
   "source": [
    "### 1.5 Преобразовываем категориальные признаки"
   ]
  },
  {
   "cell_type": "markdown",
   "metadata": {},
   "source": [
    "Для названия продуктов используем LabelEncoder:"
   ]
  },
  {
   "cell_type": "code",
   "execution_count": 445,
   "metadata": {
    "ExecuteTime": {
     "end_time": "2020-07-15T15:33:27.311628Z",
     "start_time": "2020-07-15T15:33:27.296637Z"
    }
   },
   "outputs": [
    {
     "data": {
      "text/html": [
       "<div>\n",
       "<style scoped>\n",
       "    .dataframe tbody tr th:only-of-type {\n",
       "        vertical-align: middle;\n",
       "    }\n",
       "\n",
       "    .dataframe tbody tr th {\n",
       "        vertical-align: top;\n",
       "    }\n",
       "\n",
       "    .dataframe thead th {\n",
       "        text-align: right;\n",
       "    }\n",
       "</style>\n",
       "<table border=\"1\" class=\"dataframe\">\n",
       "  <thead>\n",
       "    <tr style=\"text-align: right;\">\n",
       "      <th></th>\n",
       "      <th>Item_Identifier</th>\n",
       "      <th>Item_Weight</th>\n",
       "      <th>Item_Fat_Content</th>\n",
       "      <th>Item_Visibility</th>\n",
       "      <th>Item_Type</th>\n",
       "      <th>Item_MRP</th>\n",
       "      <th>Outlet_Identifier</th>\n",
       "      <th>Outlet_Establishment_Year</th>\n",
       "      <th>Outlet_Size</th>\n",
       "      <th>Outlet_Location_Type</th>\n",
       "      <th>Outlet_Type</th>\n",
       "      <th>Item_Outlet_Sales</th>\n",
       "    </tr>\n",
       "  </thead>\n",
       "  <tbody>\n",
       "    <tr>\n",
       "      <th>0</th>\n",
       "      <td>156</td>\n",
       "      <td>9.30</td>\n",
       "      <td>Low Fat</td>\n",
       "      <td>0.016047</td>\n",
       "      <td>Dairy</td>\n",
       "      <td>249.8092</td>\n",
       "      <td>OUT049</td>\n",
       "      <td>1999</td>\n",
       "      <td>Medium</td>\n",
       "      <td>Tier 1</td>\n",
       "      <td>Supermarket Type1</td>\n",
       "      <td>3735.1380</td>\n",
       "    </tr>\n",
       "    <tr>\n",
       "      <th>1</th>\n",
       "      <td>8</td>\n",
       "      <td>5.92</td>\n",
       "      <td>Regular</td>\n",
       "      <td>0.019278</td>\n",
       "      <td>Soft Drinks</td>\n",
       "      <td>48.2692</td>\n",
       "      <td>OUT018</td>\n",
       "      <td>2009</td>\n",
       "      <td>Medium</td>\n",
       "      <td>Tier 3</td>\n",
       "      <td>Supermarket Type2</td>\n",
       "      <td>443.4228</td>\n",
       "    </tr>\n",
       "  </tbody>\n",
       "</table>\n",
       "</div>"
      ],
      "text/plain": [
       "   Item_Identifier  Item_Weight Item_Fat_Content  Item_Visibility  \\\n",
       "0              156         9.30          Low Fat         0.016047   \n",
       "1                8         5.92          Regular         0.019278   \n",
       "\n",
       "     Item_Type  Item_MRP Outlet_Identifier  Outlet_Establishment_Year  \\\n",
       "0        Dairy  249.8092            OUT049                       1999   \n",
       "1  Soft Drinks   48.2692            OUT018                       2009   \n",
       "\n",
       "  Outlet_Size Outlet_Location_Type        Outlet_Type  Item_Outlet_Sales  \n",
       "0      Medium               Tier 1  Supermarket Type1          3735.1380  \n",
       "1      Medium               Tier 3  Supermarket Type2           443.4228  "
      ]
     },
     "execution_count": 445,
     "metadata": {},
     "output_type": "execute_result"
    }
   ],
   "source": [
    "label_encoder = LabelEncoder()\n",
    "df_new['Item_Identifier'] = label_encoder.fit_transform(df_new['Item_Identifier'])\n",
    "df_new.head(2)"
   ]
  },
  {
   "cell_type": "markdown",
   "metadata": {},
   "source": [
    "Для выбранных выше категориальных признаков признаков используем One-Hot, предварительно почистив данные (есть по-разному названные одинаковые наименования в признаке Item_Fat_Content)"
   ]
  },
  {
   "cell_type": "code",
   "execution_count": 446,
   "metadata": {
    "ExecuteTime": {
     "end_time": "2020-07-15T15:33:28.298857Z",
     "start_time": "2020-07-15T15:33:28.296856Z"
    }
   },
   "outputs": [
    {
     "name": "stdout",
     "output_type": "stream",
     "text": [
      "['Item_Fat_Content', 'Item_Type', 'Outlet_Identifier', 'Outlet_Size', 'Outlet_Location_Type', 'Outlet_Type']\n"
     ]
    }
   ],
   "source": [
    "print(categorical_for_one_hot)"
   ]
  },
  {
   "cell_type": "code",
   "execution_count": 447,
   "metadata": {
    "ExecuteTime": {
     "end_time": "2020-07-15T15:33:28.555017Z",
     "start_time": "2020-07-15T15:33:28.545015Z"
    }
   },
   "outputs": [
    {
     "name": "stdout",
     "output_type": "stream",
     "text": [
      "Low Fat    5088\n",
      "Regular    2886\n",
      "LF          316\n",
      "reg         117\n",
      "low fat     112\n",
      "Name: Item_Fat_Content, dtype: int64\n",
      "<---------------------------->\n",
      "Low Fat    5516\n",
      "Regular    3003\n",
      "Name: Item_Fat_Content, dtype: int64\n"
     ]
    }
   ],
   "source": [
    "print(df_new['Item_Fat_Content'].value_counts())\n",
    "df_new.loc[:,'Item_Fat_Content'].replace(['LF', 'low fat'], 'Low Fat', inplace=True)\n",
    "df_new.loc[:,'Item_Fat_Content'].replace(['reg'], 'Regular', inplace=True)\n",
    "print('<---------------------------->')\n",
    "print(df_new['Item_Fat_Content'].value_counts())"
   ]
  },
  {
   "cell_type": "code",
   "execution_count": 448,
   "metadata": {
    "ExecuteTime": {
     "end_time": "2020-07-15T15:33:28.777229Z",
     "start_time": "2020-07-15T15:33:28.746218Z"
    }
   },
   "outputs": [
    {
     "data": {
      "text/html": [
       "<div>\n",
       "<style scoped>\n",
       "    .dataframe tbody tr th:only-of-type {\n",
       "        vertical-align: middle;\n",
       "    }\n",
       "\n",
       "    .dataframe tbody tr th {\n",
       "        vertical-align: top;\n",
       "    }\n",
       "\n",
       "    .dataframe thead th {\n",
       "        text-align: right;\n",
       "    }\n",
       "</style>\n",
       "<table border=\"1\" class=\"dataframe\">\n",
       "  <thead>\n",
       "    <tr style=\"text-align: right;\">\n",
       "      <th></th>\n",
       "      <th>Item_Identifier</th>\n",
       "      <th>Item_Weight</th>\n",
       "      <th>Item_Visibility</th>\n",
       "      <th>Item_MRP</th>\n",
       "      <th>Outlet_Establishment_Year</th>\n",
       "      <th>Item_Outlet_Sales</th>\n",
       "      <th>Item_Fat_Content_Low Fat</th>\n",
       "      <th>Item_Fat_Content_Regular</th>\n",
       "      <th>Item_Type_Baking Goods</th>\n",
       "      <th>Item_Type_Breads</th>\n",
       "      <th>...</th>\n",
       "      <th>Outlet_Size_High</th>\n",
       "      <th>Outlet_Size_Medium</th>\n",
       "      <th>Outlet_Size_Small</th>\n",
       "      <th>Outlet_Location_Type_Tier 1</th>\n",
       "      <th>Outlet_Location_Type_Tier 2</th>\n",
       "      <th>Outlet_Location_Type_Tier 3</th>\n",
       "      <th>Outlet_Type_Grocery Store</th>\n",
       "      <th>Outlet_Type_Supermarket Type1</th>\n",
       "      <th>Outlet_Type_Supermarket Type2</th>\n",
       "      <th>Outlet_Type_Supermarket Type3</th>\n",
       "    </tr>\n",
       "  </thead>\n",
       "  <tbody>\n",
       "    <tr>\n",
       "      <th>0</th>\n",
       "      <td>156</td>\n",
       "      <td>9.30</td>\n",
       "      <td>0.016047</td>\n",
       "      <td>249.8092</td>\n",
       "      <td>1999</td>\n",
       "      <td>3735.1380</td>\n",
       "      <td>1</td>\n",
       "      <td>0</td>\n",
       "      <td>0</td>\n",
       "      <td>0</td>\n",
       "      <td>...</td>\n",
       "      <td>0</td>\n",
       "      <td>1</td>\n",
       "      <td>0</td>\n",
       "      <td>1</td>\n",
       "      <td>0</td>\n",
       "      <td>0</td>\n",
       "      <td>0</td>\n",
       "      <td>1</td>\n",
       "      <td>0</td>\n",
       "      <td>0</td>\n",
       "    </tr>\n",
       "    <tr>\n",
       "      <th>1</th>\n",
       "      <td>8</td>\n",
       "      <td>5.92</td>\n",
       "      <td>0.019278</td>\n",
       "      <td>48.2692</td>\n",
       "      <td>2009</td>\n",
       "      <td>443.4228</td>\n",
       "      <td>0</td>\n",
       "      <td>1</td>\n",
       "      <td>0</td>\n",
       "      <td>0</td>\n",
       "      <td>...</td>\n",
       "      <td>0</td>\n",
       "      <td>1</td>\n",
       "      <td>0</td>\n",
       "      <td>0</td>\n",
       "      <td>0</td>\n",
       "      <td>1</td>\n",
       "      <td>0</td>\n",
       "      <td>0</td>\n",
       "      <td>1</td>\n",
       "      <td>0</td>\n",
       "    </tr>\n",
       "    <tr>\n",
       "      <th>2</th>\n",
       "      <td>660</td>\n",
       "      <td>17.50</td>\n",
       "      <td>0.016760</td>\n",
       "      <td>141.6180</td>\n",
       "      <td>1999</td>\n",
       "      <td>2097.2700</td>\n",
       "      <td>1</td>\n",
       "      <td>0</td>\n",
       "      <td>0</td>\n",
       "      <td>0</td>\n",
       "      <td>...</td>\n",
       "      <td>0</td>\n",
       "      <td>1</td>\n",
       "      <td>0</td>\n",
       "      <td>1</td>\n",
       "      <td>0</td>\n",
       "      <td>0</td>\n",
       "      <td>0</td>\n",
       "      <td>1</td>\n",
       "      <td>0</td>\n",
       "      <td>0</td>\n",
       "    </tr>\n",
       "    <tr>\n",
       "      <th>3</th>\n",
       "      <td>1117</td>\n",
       "      <td>19.20</td>\n",
       "      <td>0.000000</td>\n",
       "      <td>182.0950</td>\n",
       "      <td>1998</td>\n",
       "      <td>732.3800</td>\n",
       "      <td>0</td>\n",
       "      <td>1</td>\n",
       "      <td>0</td>\n",
       "      <td>0</td>\n",
       "      <td>...</td>\n",
       "      <td>0</td>\n",
       "      <td>0</td>\n",
       "      <td>1</td>\n",
       "      <td>0</td>\n",
       "      <td>0</td>\n",
       "      <td>1</td>\n",
       "      <td>1</td>\n",
       "      <td>0</td>\n",
       "      <td>0</td>\n",
       "      <td>0</td>\n",
       "    </tr>\n",
       "    <tr>\n",
       "      <th>4</th>\n",
       "      <td>1293</td>\n",
       "      <td>8.93</td>\n",
       "      <td>0.000000</td>\n",
       "      <td>53.8614</td>\n",
       "      <td>1987</td>\n",
       "      <td>994.7052</td>\n",
       "      <td>1</td>\n",
       "      <td>0</td>\n",
       "      <td>0</td>\n",
       "      <td>0</td>\n",
       "      <td>...</td>\n",
       "      <td>1</td>\n",
       "      <td>0</td>\n",
       "      <td>0</td>\n",
       "      <td>0</td>\n",
       "      <td>0</td>\n",
       "      <td>1</td>\n",
       "      <td>0</td>\n",
       "      <td>1</td>\n",
       "      <td>0</td>\n",
       "      <td>0</td>\n",
       "    </tr>\n",
       "  </tbody>\n",
       "</table>\n",
       "<p>5 rows × 44 columns</p>\n",
       "</div>"
      ],
      "text/plain": [
       "   Item_Identifier  Item_Weight  Item_Visibility  Item_MRP  \\\n",
       "0              156         9.30         0.016047  249.8092   \n",
       "1                8         5.92         0.019278   48.2692   \n",
       "2              660        17.50         0.016760  141.6180   \n",
       "3             1117        19.20         0.000000  182.0950   \n",
       "4             1293         8.93         0.000000   53.8614   \n",
       "\n",
       "   Outlet_Establishment_Year  Item_Outlet_Sales  Item_Fat_Content_Low Fat  \\\n",
       "0                       1999          3735.1380                         1   \n",
       "1                       2009           443.4228                         0   \n",
       "2                       1999          2097.2700                         1   \n",
       "3                       1998           732.3800                         0   \n",
       "4                       1987           994.7052                         1   \n",
       "\n",
       "   Item_Fat_Content_Regular  Item_Type_Baking Goods  Item_Type_Breads  ...  \\\n",
       "0                         0                       0                 0  ...   \n",
       "1                         1                       0                 0  ...   \n",
       "2                         0                       0                 0  ...   \n",
       "3                         1                       0                 0  ...   \n",
       "4                         0                       0                 0  ...   \n",
       "\n",
       "   Outlet_Size_High  Outlet_Size_Medium  Outlet_Size_Small  \\\n",
       "0                 0                   1                  0   \n",
       "1                 0                   1                  0   \n",
       "2                 0                   1                  0   \n",
       "3                 0                   0                  1   \n",
       "4                 1                   0                  0   \n",
       "\n",
       "   Outlet_Location_Type_Tier 1  Outlet_Location_Type_Tier 2  \\\n",
       "0                            1                            0   \n",
       "1                            0                            0   \n",
       "2                            1                            0   \n",
       "3                            0                            0   \n",
       "4                            0                            0   \n",
       "\n",
       "   Outlet_Location_Type_Tier 3  Outlet_Type_Grocery Store  \\\n",
       "0                            0                          0   \n",
       "1                            1                          0   \n",
       "2                            0                          0   \n",
       "3                            1                          1   \n",
       "4                            1                          0   \n",
       "\n",
       "   Outlet_Type_Supermarket Type1  Outlet_Type_Supermarket Type2  \\\n",
       "0                              1                              0   \n",
       "1                              0                              1   \n",
       "2                              1                              0   \n",
       "3                              0                              0   \n",
       "4                              1                              0   \n",
       "\n",
       "   Outlet_Type_Supermarket Type3  \n",
       "0                              0  \n",
       "1                              0  \n",
       "2                              0  \n",
       "3                              0  \n",
       "4                              0  \n",
       "\n",
       "[5 rows x 44 columns]"
      ]
     },
     "execution_count": 448,
     "metadata": {},
     "output_type": "execute_result"
    }
   ],
   "source": [
    "df_new = pd.get_dummies(df_new, columns=categorical_for_one_hot)\n",
    "df_new.head(5)"
   ]
  },
  {
   "cell_type": "markdown",
   "metadata": {},
   "source": [
    "#### Теперь наш датасет готов к более подробному анализу и построению моделей!"
   ]
  },
  {
   "cell_type": "markdown",
   "metadata": {},
   "source": [
    "### 1.6 Взаимосвязи между признаками и целевым значением"
   ]
  },
  {
   "cell_type": "markdown",
   "metadata": {},
   "source": [
    "Построим матрицу корреляции признаков:"
   ]
  },
  {
   "cell_type": "code",
   "execution_count": 449,
   "metadata": {
    "ExecuteTime": {
     "end_time": "2020-07-15T15:33:31.429227Z",
     "start_time": "2020-07-15T15:33:30.712065Z"
    }
   },
   "outputs": [
    {
     "data": {
      "image/png": "[encoded data removed]",
      "text/plain": [
       "<Figure size 1080x720 with 2 Axes>"
      ]
     },
     "metadata": {
      "needs_background": "light"
     },
     "output_type": "display_data"
    }
   ],
   "source": [
    "corr = df_new.corr()\n",
    "fig = plt.figure(figsize=(15,10))\n",
    "ax = fig.add_subplot(111)\n",
    "cax = ax.matshow(corr,cmap=plt.cm.Greens, vmin=-1, vmax=1)\n",
    "fig.colorbar(cax)\n",
    "ticks = np.arange(0,len(corr.columns),1)\n",
    "ax.set_xticks(ticks)\n",
    "plt.xticks(rotation=90)\n",
    "ax.set_yticks(ticks)\n",
    "ax.set_xticklabels(df_new.columns)\n",
    "ax.set_yticklabels(df_new.columns)\n",
    "plt.show()"
   ]
  },
  {
   "cell_type": "markdown",
   "metadata": {},
   "source": [
    "Визуально можно заметить, что отличная от нуля корелляция есть между целевой переменной Item_Outlet_Sales и признаками: Item_Visibility, Item_MRP, а также идентификаторами и признаками самого магазина."
   ]
  },
  {
   "cell_type": "markdown",
   "metadata": {},
   "source": [
    "# 2 Построение модели\n",
    "В данном случае мы имеем дело с задачей регрессии (величина продажи может теоретически принимать любые положительные значения на вещественной оси). Поэтому в качестве метрики выбираем величину ошибки предсказания (MSE и MAE). Будем использовать две величины вместе для большей уверенности, благо, что дополнительных сложностей это не несет."
   ]
  },
  {
   "cell_type": "markdown",
   "metadata": {},
   "source": [
    "### 2.1 Выделение отложенной выборки"
   ]
  },
  {
   "cell_type": "markdown",
   "metadata": {},
   "source": [
    "Отмасштабируем данные для удобства.\n",
    "После этого разделим выборку на три части - train, dev и test. На train будем тренировать модели,  на dev  - валидировать, а test - отложенная выборка для финальной оценки модели."
   ]
  },
  {
   "cell_type": "code",
   "execution_count": 456,
   "metadata": {
    "ExecuteTime": {
     "end_time": "2020-07-15T15:35:54.842723Z",
     "start_time": "2020-07-15T15:35:54.824727Z"
    }
   },
   "outputs": [],
   "source": [
    "features = df_new.drop(columns=['Item_Outlet_Sales']).columns\n",
    "sc = StandardScaler()\n",
    "X = pd.DataFrame(sc.fit_transform(df_new), columns=df_new.columns)"
   ]
  },
  {
   "cell_type": "code",
   "execution_count": 457,
   "metadata": {
    "ExecuteTime": {
     "end_time": "2020-07-15T15:35:55.379919Z",
     "start_time": "2020-07-15T15:35:55.360914Z"
    }
   },
   "outputs": [
    {
     "name": "stdout",
     "output_type": "stream",
     "text": [
      "Train: (6900, 43) (6900,)\n",
      "Dev: (767, 43) (767,)\n",
      "Test: (852, 43) (852,)\n"
     ]
    }
   ],
   "source": [
    "X_train, X_test, y_train, y_test = train_test_split(X.drop(columns=['Item_Outlet_Sales']), \n",
    "                                                    X['Item_Outlet_Sales'], \n",
    "                                                    test_size=0.1)\n",
    "X_train, X_dev, y_train, y_dev = train_test_split(X_train, \n",
    "                                                  y_train, \n",
    "                                                  test_size=0.1)\n",
    "print('Train:', X_train.shape, y_train.shape)\n",
    "print('Dev:', X_dev.shape, y_dev.shape)\n",
    "print('Test:', X_test.shape, y_test.shape)"
   ]
  },
  {
   "cell_type": "markdown",
   "metadata": {},
   "source": [
    "### 2.2 Линейная модель"
   ]
  },
  {
   "cell_type": "markdown",
   "metadata": {},
   "source": [
    "В качестве линейной модели выберу Ридж регрессию, так как она содержит регуляризацию. (В простой линейной регрессии коэффициенты получались какие-то совершенно гигантские, поэтому штраф на величину коэффициентов тут весьма осмысленен).\n",
    "Буду подбирать пораметры случайным поиском по заданным массивам (силу регуляризации, количество итераций в оптимизации, точность и способ поиска решения)"
   ]
  },
  {
   "cell_type": "code",
   "execution_count": 497,
   "metadata": {
    "ExecuteTime": {
     "end_time": "2020-07-16T06:47:45.100755Z",
     "start_time": "2020-07-16T06:47:43.055140Z"
    }
   },
   "outputs": [
    {
     "data": {
      "text/plain": [
       "Ridge(alpha=10.8, copy_X=True, fit_intercept=True, max_iter=1000,\n",
       "      normalize=False, random_state=None, solver='sag', tol=0.001)"
      ]
     },
     "execution_count": 497,
     "metadata": {},
     "output_type": "execute_result"
    }
   ],
   "source": [
    "params = {'alpha':list(np.arange(0.1, 100.0, 0.1)),\n",
    "          'max_iter':[500, 1000, 2000, 5000, 10000],\n",
    "          'tol':[1e-3, 1e-2, 1e-4, 1e-5],\n",
    "          'solver':['auto', 'svd', 'cholesky', 'lsqr', 'sparse_cg', 'sag', 'saga']          \n",
    "          }\n",
    "\n",
    "lin_reg = RandomizedSearchCV(Ridge(), params, cv=10, n_jobs=-1, random_state=13, n_iter=30)\n",
    "lin_reg = lin_reg.fit(X_train, y_train).best_estimator_\n",
    "lin_reg"
   ]
  },
  {
   "cell_type": "code",
   "execution_count": 498,
   "metadata": {
    "ExecuteTime": {
     "end_time": "2020-07-16T06:47:46.339981Z",
     "start_time": "2020-07-16T06:47:46.327979Z"
    }
   },
   "outputs": [
    {
     "data": {
      "text/html": [
       "<div>\n",
       "<style scoped>\n",
       "    .dataframe tbody tr th:only-of-type {\n",
       "        vertical-align: middle;\n",
       "    }\n",
       "\n",
       "    .dataframe tbody tr th {\n",
       "        vertical-align: top;\n",
       "    }\n",
       "\n",
       "    .dataframe thead th {\n",
       "        text-align: right;\n",
       "    }\n",
       "</style>\n",
       "<table border=\"1\" class=\"dataframe\">\n",
       "  <thead>\n",
       "    <tr style=\"text-align: right;\">\n",
       "      <th></th>\n",
       "      <th>Actual</th>\n",
       "      <th>Predicted</th>\n",
       "      <th>Diff</th>\n",
       "    </tr>\n",
       "  </thead>\n",
       "  <tbody>\n",
       "    <tr>\n",
       "      <th>1937</th>\n",
       "      <td>0.056169</td>\n",
       "      <td>-0.189017</td>\n",
       "      <td>0.245186</td>\n",
       "    </tr>\n",
       "    <tr>\n",
       "      <th>1739</th>\n",
       "      <td>-1.150254</td>\n",
       "      <td>-0.352334</td>\n",
       "      <td>-0.797921</td>\n",
       "    </tr>\n",
       "    <tr>\n",
       "      <th>4600</th>\n",
       "      <td>-0.231000</td>\n",
       "      <td>-0.479227</td>\n",
       "      <td>0.248227</td>\n",
       "    </tr>\n",
       "    <tr>\n",
       "      <th>4737</th>\n",
       "      <td>0.365578</td>\n",
       "      <td>0.916028</td>\n",
       "      <td>-0.550450</td>\n",
       "    </tr>\n",
       "    <tr>\n",
       "      <th>3990</th>\n",
       "      <td>0.456489</td>\n",
       "      <td>-0.002676</td>\n",
       "      <td>0.459165</td>\n",
       "    </tr>\n",
       "    <tr>\n",
       "      <th>...</th>\n",
       "      <td>...</td>\n",
       "      <td>...</td>\n",
       "      <td>...</td>\n",
       "    </tr>\n",
       "    <tr>\n",
       "      <th>6952</th>\n",
       "      <td>-0.032791</td>\n",
       "      <td>-0.315570</td>\n",
       "      <td>0.282779</td>\n",
       "    </tr>\n",
       "    <tr>\n",
       "      <th>4627</th>\n",
       "      <td>-0.603618</td>\n",
       "      <td>-0.888075</td>\n",
       "      <td>0.284457</td>\n",
       "    </tr>\n",
       "    <tr>\n",
       "      <th>2171</th>\n",
       "      <td>0.344119</td>\n",
       "      <td>0.501671</td>\n",
       "      <td>-0.157553</td>\n",
       "    </tr>\n",
       "    <tr>\n",
       "      <th>6198</th>\n",
       "      <td>-0.369903</td>\n",
       "      <td>0.555900</td>\n",
       "      <td>-0.925802</td>\n",
       "    </tr>\n",
       "    <tr>\n",
       "      <th>5439</th>\n",
       "      <td>-1.183029</td>\n",
       "      <td>-0.806138</td>\n",
       "      <td>-0.376891</td>\n",
       "    </tr>\n",
       "  </tbody>\n",
       "</table>\n",
       "<p>767 rows × 3 columns</p>\n",
       "</div>"
      ],
      "text/plain": [
       "        Actual  Predicted      Diff\n",
       "1937  0.056169  -0.189017  0.245186\n",
       "1739 -1.150254  -0.352334 -0.797921\n",
       "4600 -0.231000  -0.479227  0.248227\n",
       "4737  0.365578   0.916028 -0.550450\n",
       "3990  0.456489  -0.002676  0.459165\n",
       "...        ...        ...       ...\n",
       "6952 -0.032791  -0.315570  0.282779\n",
       "4627 -0.603618  -0.888075  0.284457\n",
       "2171  0.344119   0.501671 -0.157553\n",
       "6198 -0.369903   0.555900 -0.925802\n",
       "5439 -1.183029  -0.806138 -0.376891\n",
       "\n",
       "[767 rows x 3 columns]"
      ]
     },
     "execution_count": 498,
     "metadata": {},
     "output_type": "execute_result"
    }
   ],
   "source": [
    "pd.DataFrame({'Actual': y_dev, 'Predicted': lin_reg.predict(X_dev), 'Diff': y_dev-lin_reg.predict(X_dev)})"
   ]
  },
  {
   "cell_type": "code",
   "execution_count": 499,
   "metadata": {
    "ExecuteTime": {
     "end_time": "2020-07-16T06:47:47.174722Z",
     "start_time": "2020-07-16T06:47:47.167720Z"
    }
   },
   "outputs": [
    {
     "name": "stdout",
     "output_type": "stream",
     "text": [
      "MSE: 0.6406589457134554\n",
      "MAE: 0.4772392352138303\n"
     ]
    }
   ],
   "source": [
    "print('MSE:', np.sqrt(mean_squared_error(y_dev, lin_reg.predict(X_dev))))\n",
    "print('MAE:', mean_absolute_error(y_dev, lin_reg.predict(X_dev)))"
   ]
  },
  {
   "cell_type": "markdown",
   "metadata": {},
   "source": [
    "Видим, что в целом ошибка получилась более-менее адекватная на dev выборке. Посмотрим какие коэффициенты регрессии получились по модулю наибольшими - таким образом узнаем какие признаки привносят наибольший вклад в регрессионную модель:"
   ]
  },
  {
   "cell_type": "code",
   "execution_count": 513,
   "metadata": {
    "ExecuteTime": {
     "end_time": "2020-07-16T07:06:04.110238Z",
     "start_time": "2020-07-16T07:06:04.104237Z"
    }
   },
   "outputs": [
    {
     "data": {
      "text/plain": [
       "Item_MRP                         0.568313\n",
       "Outlet_Type_Grocery Store        0.158850\n",
       "Outlet_Type_Supermarket Type3    0.124687\n",
       "Outlet_Identifier_OUT027         0.124687\n",
       "Outlet_Identifier_OUT010         0.111405\n",
       "Outlet_Identifier_OUT019         0.105442\n",
       "Outlet_Identifier_OUT035         0.056905\n",
       "Outlet_Identifier_OUT046         0.047086\n",
       "Outlet_Size_Medium               0.043099\n",
       "Outlet_Size_Small                0.043041\n",
       "Outlet_Type_Supermarket Type1    0.042967\n",
       "Outlet_Identifier_OUT045         0.041456\n",
       "Outlet_Establishment_Year        0.023255\n",
       "Outlet_Identifier_OUT018         0.020721\n",
       "Outlet_Type_Supermarket Type2    0.020721\n",
       "Outlet_Location_Type_Tier 1      0.019360\n",
       "Item_Type_Household              0.018767\n",
       "Item_Type_Seafood                0.013447\n",
       "Item_Identifier                  0.012757\n",
       "Outlet_Location_Type_Tier 2      0.010061\n",
       "dtype: float64"
      ]
     },
     "execution_count": 513,
     "metadata": {},
     "output_type": "execute_result"
    }
   ],
   "source": [
    "pd.Series(lin_reg.coef_, index = features).abs().sort_values(ascending=False).head(20)"
   ]
  },
  {
   "cell_type": "markdown",
   "metadata": {},
   "source": [
    "Видим, что наибольший вклад вносит максимальная цена на продукт, а также понемногу характеристики магазина (в том числе некоторые конкретные наименования магазинов)."
   ]
  },
  {
   "cell_type": "markdown",
   "metadata": {},
   "source": [
    "### 2.3 Нелинейная модель"
   ]
  },
  {
   "cell_type": "markdown",
   "metadata": {},
   "source": [
    "В качестве нелинейной модели выберу модель случайного леса. Параметры буду подбирать также случайным поиском по массивам параметров, заданным изначально"
   ]
  },
  {
   "cell_type": "code",
   "execution_count": 501,
   "metadata": {
    "ExecuteTime": {
     "end_time": "2020-07-16T06:58:51.477931Z",
     "start_time": "2020-07-16T06:51:28.288376Z"
    }
   },
   "outputs": [
    {
     "data": {
      "text/plain": [
       "RandomForestRegressor(bootstrap=True, ccp_alpha=0.0, criterion='mse',\n",
       "                      max_depth=8, max_features='auto', max_leaf_nodes=None,\n",
       "                      max_samples=None, min_impurity_decrease=0.0,\n",
       "                      min_impurity_split=None, min_samples_leaf=5,\n",
       "                      min_samples_split=7, min_weight_fraction_leaf=0.0,\n",
       "                      n_estimators=28, n_jobs=-1, oob_score=False,\n",
       "                      random_state=13, verbose=0, warm_start=False)"
      ]
     },
     "execution_count": 501,
     "metadata": {},
     "output_type": "execute_result"
    }
   ],
   "source": [
    "params = {   'criterion': ['mse', 'mae'],\n",
    "             'max_depth': list(range(5, 50, 1)),\n",
    "             'max_features': ['auto', 'sqrt', 'log2'],\n",
    "             'min_samples_leaf': list(range(1, 10, 1)),\n",
    "             'min_samples_split': list(range(2, 10, 1)),\n",
    "             'n_estimators': list(range(5, 100, 1)),\n",
    "             'n_jobs': [-1],\n",
    "             'random_state': [13]}\n",
    "\n",
    "rf_regr = RandomizedSearchCV(RandomForestRegressor(), params, cv=10, n_jobs=-1, n_iter=30, random_state=13)\n",
    "rf_regr =  rf_regr.fit(X_train, y_train).best_estimator_\n",
    "rf_regr"
   ]
  },
  {
   "cell_type": "code",
   "execution_count": 502,
   "metadata": {
    "ExecuteTime": {
     "end_time": "2020-07-16T07:00:31.463594Z",
     "start_time": "2020-07-16T07:00:31.239510Z"
    }
   },
   "outputs": [
    {
     "data": {
      "text/html": [
       "<div>\n",
       "<style scoped>\n",
       "    .dataframe tbody tr th:only-of-type {\n",
       "        vertical-align: middle;\n",
       "    }\n",
       "\n",
       "    .dataframe tbody tr th {\n",
       "        vertical-align: top;\n",
       "    }\n",
       "\n",
       "    .dataframe thead th {\n",
       "        text-align: right;\n",
       "    }\n",
       "</style>\n",
       "<table border=\"1\" class=\"dataframe\">\n",
       "  <thead>\n",
       "    <tr style=\"text-align: right;\">\n",
       "      <th></th>\n",
       "      <th>Actual</th>\n",
       "      <th>Predicted</th>\n",
       "      <th>Diff</th>\n",
       "    </tr>\n",
       "  </thead>\n",
       "  <tbody>\n",
       "    <tr>\n",
       "      <th>1937</th>\n",
       "      <td>0.056169</td>\n",
       "      <td>-0.154471</td>\n",
       "      <td>0.210640</td>\n",
       "    </tr>\n",
       "    <tr>\n",
       "      <th>1739</th>\n",
       "      <td>-1.150254</td>\n",
       "      <td>-0.983840</td>\n",
       "      <td>-0.166414</td>\n",
       "    </tr>\n",
       "    <tr>\n",
       "      <th>4600</th>\n",
       "      <td>-0.231000</td>\n",
       "      <td>-0.567145</td>\n",
       "      <td>0.336144</td>\n",
       "    </tr>\n",
       "    <tr>\n",
       "      <th>4737</th>\n",
       "      <td>0.365578</td>\n",
       "      <td>0.979229</td>\n",
       "      <td>-0.613651</td>\n",
       "    </tr>\n",
       "    <tr>\n",
       "      <th>3990</th>\n",
       "      <td>0.456489</td>\n",
       "      <td>0.172146</td>\n",
       "      <td>0.284343</td>\n",
       "    </tr>\n",
       "    <tr>\n",
       "      <th>...</th>\n",
       "      <td>...</td>\n",
       "      <td>...</td>\n",
       "      <td>...</td>\n",
       "    </tr>\n",
       "    <tr>\n",
       "      <th>6952</th>\n",
       "      <td>-0.032791</td>\n",
       "      <td>-0.239297</td>\n",
       "      <td>0.206505</td>\n",
       "    </tr>\n",
       "    <tr>\n",
       "      <th>4627</th>\n",
       "      <td>-0.603618</td>\n",
       "      <td>-0.713165</td>\n",
       "      <td>0.109547</td>\n",
       "    </tr>\n",
       "    <tr>\n",
       "      <th>2171</th>\n",
       "      <td>0.344119</td>\n",
       "      <td>0.565744</td>\n",
       "      <td>-0.221626</td>\n",
       "    </tr>\n",
       "    <tr>\n",
       "      <th>6198</th>\n",
       "      <td>-0.369903</td>\n",
       "      <td>0.411430</td>\n",
       "      <td>-0.781333</td>\n",
       "    </tr>\n",
       "    <tr>\n",
       "      <th>5439</th>\n",
       "      <td>-1.183029</td>\n",
       "      <td>-0.857015</td>\n",
       "      <td>-0.326014</td>\n",
       "    </tr>\n",
       "  </tbody>\n",
       "</table>\n",
       "<p>767 rows × 3 columns</p>\n",
       "</div>"
      ],
      "text/plain": [
       "        Actual  Predicted      Diff\n",
       "1937  0.056169  -0.154471  0.210640\n",
       "1739 -1.150254  -0.983840 -0.166414\n",
       "4600 -0.231000  -0.567145  0.336144\n",
       "4737  0.365578   0.979229 -0.613651\n",
       "3990  0.456489   0.172146  0.284343\n",
       "...        ...        ...       ...\n",
       "6952 -0.032791  -0.239297  0.206505\n",
       "4627 -0.603618  -0.713165  0.109547\n",
       "2171  0.344119   0.565744 -0.221626\n",
       "6198 -0.369903   0.411430 -0.781333\n",
       "5439 -1.183029  -0.857015 -0.326014\n",
       "\n",
       "[767 rows x 3 columns]"
      ]
     },
     "execution_count": 502,
     "metadata": {},
     "output_type": "execute_result"
    }
   ],
   "source": [
    "pd.DataFrame({'Actual': y_dev, 'Predicted': rf_regr.predict(X_dev), 'Diff': y_dev-rf_regr.predict(X_dev)})"
   ]
  },
  {
   "cell_type": "code",
   "execution_count": 503,
   "metadata": {
    "ExecuteTime": {
     "end_time": "2020-07-16T07:00:49.775195Z",
     "start_time": "2020-07-16T07:00:49.560162Z"
    }
   },
   "outputs": [
    {
     "name": "stdout",
     "output_type": "stream",
     "text": [
      "MSE: 0.617789054497454\n",
      "MAE: 0.4312382495606092\n"
     ]
    }
   ],
   "source": [
    "print('MSE:', np.sqrt(mean_squared_error(y_dev, rf_regr.predict(X_dev))))\n",
    "print('MAE:', mean_absolute_error(y_dev, rf_regr.predict(X_dev)))"
   ]
  },
  {
   "cell_type": "markdown",
   "metadata": {},
   "source": [
    "Метрики получились чуть лучше, чем в линейной модели. \n",
    "Посмотрим на значимость признаков:"
   ]
  },
  {
   "cell_type": "code",
   "execution_count": 512,
   "metadata": {
    "ExecuteTime": {
     "end_time": "2020-07-16T07:04:18.190020Z",
     "start_time": "2020-07-16T07:04:18.079010Z"
    }
   },
   "outputs": [
    {
     "data": {
      "text/plain": [
       "Item_MRP                           0.531213\n",
       "Outlet_Type_Grocery Store          0.285127\n",
       "Outlet_Establishment_Year          0.049818\n",
       "Outlet_Identifier_OUT027           0.036938\n",
       "Outlet_Type_Supermarket Type3      0.023837\n",
       "Item_Weight                        0.019467\n",
       "Item_Visibility                    0.019039\n",
       "Item_Identifier                    0.016951\n",
       "Item_Type_Fruits and Vegetables    0.001679\n",
       "Outlet_Identifier_OUT018           0.001403\n",
       "dtype: float64"
      ]
     },
     "execution_count": 512,
     "metadata": {},
     "output_type": "execute_result"
    }
   ],
   "source": [
    "pd.Series(rf_regr.feature_importances_, index=features).sort_values(ascending=False).head(10)"
   ]
  },
  {
   "cell_type": "markdown",
   "metadata": {},
   "source": [
    "Важности признков, оцененные по модели случайного леса оказались похожи на то, что мы видели на линейной модели. В частности первые два места по значимости совпадают - это максимальная цена и метка Продуктового магазина. Интересно, что третье место у моделей разное - в модели случайного леса более важным признаком является год открытия магазина (что выглядит вполне логичным). Хотя признак, который на третьем месте в линейной модели в случайном лесе тоже достаточно высоко - на пятом месте.\n",
    "Посмотрим что нам даст стекинг нескольких моделей и улучшит ли он результат."
   ]
  },
  {
   "cell_type": "markdown",
   "metadata": {},
   "source": [
    "### 2.4 Стекинг\n",
    "Попробуем улучшить результат нелинейной модели, используя стекинг.\n",
    "Возьмем в стекинг три модели - Случайный лес из предыдущего шага, добавим к нему SV-регрессор, и финальным слоем возьмем Ридж регрессию из пункта с Линейной моделью. Возьмем те гиперпараметры, которые уже подобрали в предыдущих шагах и проверим произойдет ли улучшение качества."
   ]
  },
  {
   "cell_type": "code",
   "execution_count": 600,
   "metadata": {
    "ExecuteTime": {
     "end_time": "2020-07-16T08:09:03.493278Z",
     "start_time": "2020-07-16T08:09:03.487267Z"
    }
   },
   "outputs": [],
   "source": [
    "Stack_regressor = StackingRegressor(\n",
    "    [\n",
    "        ('dt', RandomForestRegressor(n_estimators=28, min_samples_leaf=5, min_samples_split=7, max_depth=8,\n",
    "                                     random_state=13)),\n",
    "        ('svr', SVR())\n",
    "    ],\n",
    "Ridge(alpha=10.8, copy_X=True, fit_intercept=True, max_iter=1000,\n",
    "      normalize=False, random_state=None, solver='sag', tol=0.001))"
   ]
  },
  {
   "cell_type": "code",
   "execution_count": 601,
   "metadata": {
    "ExecuteTime": {
     "end_time": "2020-07-16T08:09:21.075369Z",
     "start_time": "2020-07-16T08:09:08.007408Z"
    }
   },
   "outputs": [],
   "source": [
    "Stack_regressor = Stack_regressor.fit(X_train, y_train)"
   ]
  },
  {
   "cell_type": "code",
   "execution_count": 603,
   "metadata": {
    "ExecuteTime": {
     "end_time": "2020-07-16T08:14:11.960924Z",
     "start_time": "2020-07-16T08:14:11.608586Z"
    }
   },
   "outputs": [
    {
     "name": "stdout",
     "output_type": "stream",
     "text": [
      "MAE\n",
      "0.4294802401314472\n",
      "MSE\n",
      "0.6134050740540179\n"
     ]
    }
   ],
   "source": [
    "print('MAE')\n",
    "print(mean_absolute_error(y_dev, Stack_regressor.predict(X_dev)))\n",
    "print('MSE')\n",
    "print(np.sqrt(mean_squared_error(y_dev, Stack_regressor.predict(X_dev))))"
   ]
  },
  {
   "cell_type": "markdown",
   "metadata": {},
   "source": [
    "Видим, что произошло некоторое улучшение модели по сравнению со случайным лесом - значит стекинг не был бесполезен.\n",
    "Поэтому для предсказания на отложенной выборке мы выберем стекинговую модель. Но как бы то ни было и Ридж и Случайный лес нам нужны для того, чтобы оценить важность предикторов, так как стекинговая модель сильно сложнее для интерпретации результатов."
   ]
  },
  {
   "cell_type": "markdown",
   "metadata": {},
   "source": [
    "# 3 Итоги"
   ]
  },
  {
   "cell_type": "markdown",
   "metadata": {},
   "source": [
    "### 3.1 Оценка модели по отложенной выборке"
   ]
  },
  {
   "cell_type": "markdown",
   "metadata": {},
   "source": [
    "Посмотрим оценку на отложенной выборке вместе с оценками на остальных выборках. Это даст более четкое понимание насколько хорошо обучилась модель. "
   ]
  },
  {
   "cell_type": "code",
   "execution_count": 605,
   "metadata": {
    "ExecuteTime": {
     "end_time": "2020-07-16T08:16:20.763152Z",
     "start_time": "2020-07-16T08:16:20.568109Z"
    }
   },
   "outputs": [],
   "source": [
    "final_prediction = Stack_regressor.predict(X_test)"
   ]
  },
  {
   "cell_type": "code",
   "execution_count": 608,
   "metadata": {
    "ExecuteTime": {
     "end_time": "2020-07-16T09:15:45.488984Z",
     "start_time": "2020-07-16T09:15:42.139805Z"
    }
   },
   "outputs": [
    {
     "name": "stdout",
     "output_type": "stream",
     "text": [
      ">>>>TRAIN<<<<\n",
      "MAE: 0.40907942235093503\n",
      "sqrt(MSE) 0.5883591408467979\n",
      ">>>>DEV<<<<\n",
      "MAE 0.4294802401314472\n",
      "sqrt(MSE) 0.6134050740540179\n",
      ">>>>TEST<<<<\n",
      "MAE 0.434158207112333\n",
      "sqrt(MSE) 0.6199781942647088\n"
     ]
    }
   ],
   "source": [
    "print('>>>>TRAIN<<<<')\n",
    "print('MAE:', mean_absolute_error(y_train, Stack_regressor.predict(X_train)))\n",
    "print('sqrt(MSE)', np.sqrt(mean_squared_error(y_train, Stack_regressor.predict(X_train))))\n",
    "print('>>>>DEV<<<<')\n",
    "print('MAE', mean_absolute_error(y_dev, Stack_regressor.predict(X_dev)))\n",
    "print('sqrt(MSE)', np.sqrt(mean_squared_error(y_dev, Stack_regressor.predict(X_dev))))\n",
    "print('>>>>TEST<<<<')\n",
    "print('MAE', mean_absolute_error(y_test, final_prediction))\n",
    "print('sqrt(MSE)', np.sqrt(mean_squared_error(y_test, final_prediction)))"
   ]
  },
  {
   "cell_type": "markdown",
   "metadata": {},
   "source": [
    "Видим, что ошибка на отложенной выборке очень близка  к ошибке на dev-выборке - это хороший знак. А относительная близость ошибки на тренировочной и на dev выборках говорит, что сильного переобучения у нас не произошло, что тоже хорошо."
   ]
  },
  {
   "cell_type": "markdown",
   "metadata": {},
   "source": [
    "### 3.2 Определение ТОП-3 признаков больше всего влияющих на объемы продаж"
   ]
  },
  {
   "cell_type": "markdown",
   "metadata": {},
   "source": [
    "Выше мы уже на линейной и нелинейной модели посмотрели на метрики важности признаков. сейчас нужно их объединить и выбрать топ-3:"
   ]
  },
  {
   "cell_type": "markdown",
   "metadata": {},
   "source": [
    "Посмотрим на важности признаков в двух моделях вместе в одной таблице (из каждой модели по 10 наиболее важных):"
   ]
  },
  {
   "cell_type": "code",
   "execution_count": 619,
   "metadata": {
    "ExecuteTime": {
     "end_time": "2020-07-16T09:27:17.607444Z",
     "start_time": "2020-07-16T09:27:17.489438Z"
    }
   },
   "outputs": [
    {
     "data": {
      "text/html": [
       "<div>\n",
       "<style scoped>\n",
       "    .dataframe tbody tr th:only-of-type {\n",
       "        vertical-align: middle;\n",
       "    }\n",
       "\n",
       "    .dataframe tbody tr th {\n",
       "        vertical-align: top;\n",
       "    }\n",
       "\n",
       "    .dataframe thead th {\n",
       "        text-align: right;\n",
       "    }\n",
       "</style>\n",
       "<table border=\"1\" class=\"dataframe\">\n",
       "  <thead>\n",
       "    <tr style=\"text-align: right;\">\n",
       "      <th></th>\n",
       "      <th>linear_importance</th>\n",
       "      <th>non-linear_importance</th>\n",
       "    </tr>\n",
       "  </thead>\n",
       "  <tbody>\n",
       "    <tr>\n",
       "      <th>Item_MRP</th>\n",
       "      <td>0.568313</td>\n",
       "      <td>0.531213</td>\n",
       "    </tr>\n",
       "    <tr>\n",
       "      <th>Outlet_Type_Grocery Store</th>\n",
       "      <td>0.158850</td>\n",
       "      <td>0.285127</td>\n",
       "    </tr>\n",
       "    <tr>\n",
       "      <th>Outlet_Establishment_Year</th>\n",
       "      <td>NaN</td>\n",
       "      <td>0.049818</td>\n",
       "    </tr>\n",
       "    <tr>\n",
       "      <th>Outlet_Identifier_OUT027</th>\n",
       "      <td>0.124687</td>\n",
       "      <td>0.036938</td>\n",
       "    </tr>\n",
       "    <tr>\n",
       "      <th>Outlet_Type_Supermarket Type3</th>\n",
       "      <td>0.124687</td>\n",
       "      <td>0.023837</td>\n",
       "    </tr>\n",
       "    <tr>\n",
       "      <th>Item_Weight</th>\n",
       "      <td>NaN</td>\n",
       "      <td>0.019467</td>\n",
       "    </tr>\n",
       "    <tr>\n",
       "      <th>Item_Visibility</th>\n",
       "      <td>NaN</td>\n",
       "      <td>0.019039</td>\n",
       "    </tr>\n",
       "    <tr>\n",
       "      <th>Item_Identifier</th>\n",
       "      <td>NaN</td>\n",
       "      <td>0.016951</td>\n",
       "    </tr>\n",
       "    <tr>\n",
       "      <th>Item_Type_Fruits and Vegetables</th>\n",
       "      <td>NaN</td>\n",
       "      <td>0.001679</td>\n",
       "    </tr>\n",
       "    <tr>\n",
       "      <th>Outlet_Identifier_OUT018</th>\n",
       "      <td>NaN</td>\n",
       "      <td>0.001403</td>\n",
       "    </tr>\n",
       "    <tr>\n",
       "      <th>Outlet_Identifier_OUT010</th>\n",
       "      <td>0.111405</td>\n",
       "      <td>NaN</td>\n",
       "    </tr>\n",
       "    <tr>\n",
       "      <th>Outlet_Identifier_OUT019</th>\n",
       "      <td>0.105442</td>\n",
       "      <td>NaN</td>\n",
       "    </tr>\n",
       "    <tr>\n",
       "      <th>Outlet_Identifier_OUT035</th>\n",
       "      <td>0.056905</td>\n",
       "      <td>NaN</td>\n",
       "    </tr>\n",
       "    <tr>\n",
       "      <th>Outlet_Identifier_OUT046</th>\n",
       "      <td>0.047086</td>\n",
       "      <td>NaN</td>\n",
       "    </tr>\n",
       "    <tr>\n",
       "      <th>Outlet_Size_Medium</th>\n",
       "      <td>0.043099</td>\n",
       "      <td>NaN</td>\n",
       "    </tr>\n",
       "    <tr>\n",
       "      <th>Outlet_Size_Small</th>\n",
       "      <td>0.043041</td>\n",
       "      <td>NaN</td>\n",
       "    </tr>\n",
       "  </tbody>\n",
       "</table>\n",
       "</div>"
      ],
      "text/plain": [
       "                                 linear_importance  non-linear_importance\n",
       "Item_MRP                                  0.568313               0.531213\n",
       "Outlet_Type_Grocery Store                 0.158850               0.285127\n",
       "Outlet_Establishment_Year                      NaN               0.049818\n",
       "Outlet_Identifier_OUT027                  0.124687               0.036938\n",
       "Outlet_Type_Supermarket Type3             0.124687               0.023837\n",
       "Item_Weight                                    NaN               0.019467\n",
       "Item_Visibility                                NaN               0.019039\n",
       "Item_Identifier                                NaN               0.016951\n",
       "Item_Type_Fruits and Vegetables                NaN               0.001679\n",
       "Outlet_Identifier_OUT018                       NaN               0.001403\n",
       "Outlet_Identifier_OUT010                  0.111405                    NaN\n",
       "Outlet_Identifier_OUT019                  0.105442                    NaN\n",
       "Outlet_Identifier_OUT035                  0.056905                    NaN\n",
       "Outlet_Identifier_OUT046                  0.047086                    NaN\n",
       "Outlet_Size_Medium                        0.043099                    NaN\n",
       "Outlet_Size_Small                         0.043041                    NaN"
      ]
     },
     "execution_count": 619,
     "metadata": {},
     "output_type": "execute_result"
    }
   ],
   "source": [
    "data_dict = {'linear_importance':pd.Series(lin_reg.coef_, index = features).abs().sort_values(ascending=False).head(10),\n",
    "             'non-linear_importance':pd.Series(rf_regr.feature_importances_, index=features).sort_values(ascending=False).head(10)}\n",
    "pd.DataFrame(data_dict).sort_values(by='non-linear_importance', ascending=False)"
   ]
  },
  {
   "cell_type": "markdown",
   "metadata": {},
   "source": [
    "Интуитивно кажется, что нелинейная модель выдала более логичный список важных признаков. Совпадение первых двух признаков нам точно позволяет поставить их на 1 и 2 место в топ, а вот 3 место нужно отдать кому-то из списка: \n",
    "* Outlet_Establishment_Year\n",
    "* Outlet_Identifier_OUT027\n",
    "* Outlet_Type_Supermarket Type3"
   ]
  },
  {
   "cell_type": "markdown",
   "metadata": {},
   "source": [
    "Хотя Outlet_Identifier_OUT027 и Outlet_Type_Supermarket Type3 попали в топы по обеим моделям, все же я сделаю выбор в пользу более интуитивно понятного признака Outlet_Establishment_Year. Кажется достаточно естественным, что продажи могут зависеть от того, насколько новый или старый магазин."
   ]
  },
  {
   "cell_type": "markdown",
   "metadata": {},
   "source": [
    "### Итого Топ самых влияющих признаков по результатам моего анализа такой:\n",
    "* Item_MRP - Максимальная цена на продукт в конкретном магазине наиболее сильно влияет на объем продаж\n",
    "* Outlet_Type_Grocery Store - Объем продаж сильно зависит от того, продуктовый магазин или нет\n",
    "* Outlet_Establishment_Year - Объем продаж зависит от того, насколько давно был открыт магазин."
   ]
  },
  {
   "cell_type": "code",
   "execution_count": null,
   "metadata": {},
   "outputs": [],
   "source": []
  }
 ],
 "metadata": {
  "kernelspec": {
   "display_name": "Python 3",
   "language": "python",
   "name": "python3"
  },
  "language_info": {
   "codemirror_mode": {
    "name": "ipython",
    "version": 3
   },
   "file_extension": ".py",
   "mimetype": "text/x-python",
   "name": "python",
   "nbconvert_exporter": "python",
   "pygments_lexer": "ipython3",
   "version": "3.7.1"
  }
 },
 "nbformat": 4,
 "nbformat_minor": 4
}
